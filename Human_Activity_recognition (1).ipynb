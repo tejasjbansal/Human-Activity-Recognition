{
  "nbformat": 4,
  "nbformat_minor": 0,
  "metadata": {
    "colab": {
      "name": "Human Activity recognition ",
      "provenance": [],
      "collapsed_sections": []
    },
    "kernelspec": {
      "name": "python3",
      "display_name": "Python 3"
    },
    "accelerator": "GPU"
  },
  "cells": [
    {
      "cell_type": "markdown",
      "metadata": {
        "id": "C1WX-_HehGQK",
        "colab_type": "text"
      },
      "source": [
        "# Human Activity Recognition using Smart Phones Dataset.\n",
        "<strong><center>![alt text](https://camo.githubusercontent.com/ec2708af7a740e1a2396b777cf336b7c9804dc28/68747470733a2f2f7777772e616e64726f6964686976652e696e666f2f77702d636f6e74656e742f75706c6f6164732f323031372f31322f616e64726f69642d757365722d61637469766974792d7265636f676e6974696f6e2d7374696c6c2d77616c6b696e672d72756e6e696e672d64726976696e672e6a7067)\n",
        "</center></strong>"
      ]
    },
    {
      "cell_type": "markdown",
      "metadata": {
        "id": "ExKqDoI9jOV4",
        "colab_type": "text"
      },
      "source": [
        "# Importing Libraries"
      ]
    },
    {
      "cell_type": "code",
      "metadata": {
        "id": "fNKFe6O1MgF6",
        "colab_type": "code",
        "colab": {}
      },
      "source": [
        "import pandas as pd\n",
        "import numpy as np\n",
        "import matplotlib.pyplot as plt\n",
        "import seaborn as sns\n",
        "%matplotlib inline"
      ],
      "execution_count": 6,
      "outputs": []
    },
    {
      "cell_type": "markdown",
      "metadata": {
        "id": "v3GMECUjj237",
        "colab_type": "text"
      },
      "source": [
        "# Initialise Google Drive with *Colab*"
      ]
    },
    {
      "cell_type": "code",
      "metadata": {
        "id": "lmd-ZUHUMtQS",
        "colab_type": "code",
        "colab": {
          "base_uri": "https://localhost:8080/",
          "height": 121
        },
        "outputId": "e339526a-4e83-4d4b-aca8-f2952c3109c0"
      },
      "source": [
        "from google.colab import drive\n",
        "drive.mount('/content/drive')"
      ],
      "execution_count": 7,
      "outputs": [
        {
          "output_type": "stream",
          "text": [
            "Go to this URL in a browser: https://accounts.google.com/o/oauth2/auth?client_id=947318989803-6bn6qk8qdgf4n4g3pfee6491hc0brc4i.apps.googleusercontent.com&redirect_uri=urn%3aietf%3awg%3aoauth%3a2.0%3aoob&response_type=code&scope=email%20https%3a%2f%2fwww.googleapis.com%2fauth%2fdocs.test%20https%3a%2f%2fwww.googleapis.com%2fauth%2fdrive%20https%3a%2f%2fwww.googleapis.com%2fauth%2fdrive.photos.readonly%20https%3a%2f%2fwww.googleapis.com%2fauth%2fpeopleapi.readonly\n",
            "\n",
            "Enter your authorization code:\n",
            "··········\n",
            "Mounted at /content/drive\n"
          ],
          "name": "stdout"
        }
      ]
    },
    {
      "cell_type": "markdown",
      "metadata": {
        "id": "9q-OWtFSkI2P",
        "colab_type": "text"
      },
      "source": [
        "# Read The train and test csv file from the Google Drive"
      ]
    },
    {
      "cell_type": "code",
      "metadata": {
        "id": "cf0_uiv-NeSV",
        "colab_type": "code",
        "colab": {}
      },
      "source": [
        "train = pd.read_csv('/content/drive/My Drive/train.csv')"
      ],
      "execution_count": 96,
      "outputs": []
    },
    {
      "cell_type": "code",
      "metadata": {
        "id": "H2Z-d0pEN-h0",
        "colab_type": "code",
        "colab": {}
      },
      "source": [
        "test = pd.read_csv('/content/drive/My Drive/test.csv')"
      ],
      "execution_count": 97,
      "outputs": []
    },
    {
      "cell_type": "markdown",
      "metadata": {
        "id": "eikf78XYkwo6",
        "colab_type": "text"
      },
      "source": [
        "# Visualizing the Data Set "
      ]
    },
    {
      "cell_type": "code",
      "metadata": {
        "id": "zf5oGowyOAT4",
        "colab_type": "code",
        "colab": {
          "base_uri": "https://localhost:8080/",
          "height": 278
        },
        "outputId": "cfd7a80d-7961-4850-91a4-aeecf4fcb760"
      },
      "source": [
        "train.head()"
      ],
      "execution_count": 98,
      "outputs": [
        {
          "output_type": "execute_result",
          "data": {
            "text/html": [
              "<div>\n",
              "<style scoped>\n",
              "    .dataframe tbody tr th:only-of-type {\n",
              "        vertical-align: middle;\n",
              "    }\n",
              "\n",
              "    .dataframe tbody tr th {\n",
              "        vertical-align: top;\n",
              "    }\n",
              "\n",
              "    .dataframe thead th {\n",
              "        text-align: right;\n",
              "    }\n",
              "</style>\n",
              "<table border=\"1\" class=\"dataframe\">\n",
              "  <thead>\n",
              "    <tr style=\"text-align: right;\">\n",
              "      <th></th>\n",
              "      <th>tBodyAcc-mean()-X</th>\n",
              "      <th>tBodyAcc-mean()-Y</th>\n",
              "      <th>tBodyAcc-mean()-Z</th>\n",
              "      <th>tBodyAcc-std()-X</th>\n",
              "      <th>tBodyAcc-std()-Y</th>\n",
              "      <th>tBodyAcc-std()-Z</th>\n",
              "      <th>tBodyAcc-mad()-X</th>\n",
              "      <th>tBodyAcc-mad()-Y</th>\n",
              "      <th>tBodyAcc-mad()-Z</th>\n",
              "      <th>tBodyAcc-max()-X</th>\n",
              "      <th>tBodyAcc-max()-Y</th>\n",
              "      <th>tBodyAcc-max()-Z</th>\n",
              "      <th>tBodyAcc-min()-X</th>\n",
              "      <th>tBodyAcc-min()-Y</th>\n",
              "      <th>tBodyAcc-min()-Z</th>\n",
              "      <th>tBodyAcc-sma()</th>\n",
              "      <th>tBodyAcc-energy()-X</th>\n",
              "      <th>tBodyAcc-energy()-Y</th>\n",
              "      <th>tBodyAcc-energy()-Z</th>\n",
              "      <th>tBodyAcc-iqr()-X</th>\n",
              "      <th>tBodyAcc-iqr()-Y</th>\n",
              "      <th>tBodyAcc-iqr()-Z</th>\n",
              "      <th>tBodyAcc-entropy()-X</th>\n",
              "      <th>tBodyAcc-entropy()-Y</th>\n",
              "      <th>tBodyAcc-entropy()-Z</th>\n",
              "      <th>tBodyAcc-arCoeff()-X,1</th>\n",
              "      <th>tBodyAcc-arCoeff()-X,2</th>\n",
              "      <th>tBodyAcc-arCoeff()-X,3</th>\n",
              "      <th>tBodyAcc-arCoeff()-X,4</th>\n",
              "      <th>tBodyAcc-arCoeff()-Y,1</th>\n",
              "      <th>tBodyAcc-arCoeff()-Y,2</th>\n",
              "      <th>tBodyAcc-arCoeff()-Y,3</th>\n",
              "      <th>tBodyAcc-arCoeff()-Y,4</th>\n",
              "      <th>tBodyAcc-arCoeff()-Z,1</th>\n",
              "      <th>tBodyAcc-arCoeff()-Z,2</th>\n",
              "      <th>tBodyAcc-arCoeff()-Z,3</th>\n",
              "      <th>tBodyAcc-arCoeff()-Z,4</th>\n",
              "      <th>tBodyAcc-correlation()-X,Y</th>\n",
              "      <th>tBodyAcc-correlation()-X,Z</th>\n",
              "      <th>tBodyAcc-correlation()-Y,Z</th>\n",
              "      <th>...</th>\n",
              "      <th>fBodyBodyAccJerkMag-entropy()</th>\n",
              "      <th>fBodyBodyAccJerkMag-maxInds</th>\n",
              "      <th>fBodyBodyAccJerkMag-meanFreq()</th>\n",
              "      <th>fBodyBodyAccJerkMag-skewness()</th>\n",
              "      <th>fBodyBodyAccJerkMag-kurtosis()</th>\n",
              "      <th>fBodyBodyGyroMag-mean()</th>\n",
              "      <th>fBodyBodyGyroMag-std()</th>\n",
              "      <th>fBodyBodyGyroMag-mad()</th>\n",
              "      <th>fBodyBodyGyroMag-max()</th>\n",
              "      <th>fBodyBodyGyroMag-min()</th>\n",
              "      <th>fBodyBodyGyroMag-sma()</th>\n",
              "      <th>fBodyBodyGyroMag-energy()</th>\n",
              "      <th>fBodyBodyGyroMag-iqr()</th>\n",
              "      <th>fBodyBodyGyroMag-entropy()</th>\n",
              "      <th>fBodyBodyGyroMag-maxInds</th>\n",
              "      <th>fBodyBodyGyroMag-meanFreq()</th>\n",
              "      <th>fBodyBodyGyroMag-skewness()</th>\n",
              "      <th>fBodyBodyGyroMag-kurtosis()</th>\n",
              "      <th>fBodyBodyGyroJerkMag-mean()</th>\n",
              "      <th>fBodyBodyGyroJerkMag-std()</th>\n",
              "      <th>fBodyBodyGyroJerkMag-mad()</th>\n",
              "      <th>fBodyBodyGyroJerkMag-max()</th>\n",
              "      <th>fBodyBodyGyroJerkMag-min()</th>\n",
              "      <th>fBodyBodyGyroJerkMag-sma()</th>\n",
              "      <th>fBodyBodyGyroJerkMag-energy()</th>\n",
              "      <th>fBodyBodyGyroJerkMag-iqr()</th>\n",
              "      <th>fBodyBodyGyroJerkMag-entropy()</th>\n",
              "      <th>fBodyBodyGyroJerkMag-maxInds</th>\n",
              "      <th>fBodyBodyGyroJerkMag-meanFreq()</th>\n",
              "      <th>fBodyBodyGyroJerkMag-skewness()</th>\n",
              "      <th>fBodyBodyGyroJerkMag-kurtosis()</th>\n",
              "      <th>angle(tBodyAccMean,gravity)</th>\n",
              "      <th>angle(tBodyAccJerkMean),gravityMean)</th>\n",
              "      <th>angle(tBodyGyroMean,gravityMean)</th>\n",
              "      <th>angle(tBodyGyroJerkMean,gravityMean)</th>\n",
              "      <th>angle(X,gravityMean)</th>\n",
              "      <th>angle(Y,gravityMean)</th>\n",
              "      <th>angle(Z,gravityMean)</th>\n",
              "      <th>subject</th>\n",
              "      <th>Activity</th>\n",
              "    </tr>\n",
              "  </thead>\n",
              "  <tbody>\n",
              "    <tr>\n",
              "      <th>0</th>\n",
              "      <td>0.288585</td>\n",
              "      <td>-0.020294</td>\n",
              "      <td>-0.132905</td>\n",
              "      <td>-0.995279</td>\n",
              "      <td>-0.983111</td>\n",
              "      <td>-0.913526</td>\n",
              "      <td>-0.995112</td>\n",
              "      <td>-0.983185</td>\n",
              "      <td>-0.923527</td>\n",
              "      <td>-0.934724</td>\n",
              "      <td>-0.567378</td>\n",
              "      <td>-0.744413</td>\n",
              "      <td>0.852947</td>\n",
              "      <td>0.685845</td>\n",
              "      <td>0.814263</td>\n",
              "      <td>-0.965523</td>\n",
              "      <td>-0.999945</td>\n",
              "      <td>-0.999863</td>\n",
              "      <td>-0.994612</td>\n",
              "      <td>-0.994231</td>\n",
              "      <td>-0.987614</td>\n",
              "      <td>-0.943220</td>\n",
              "      <td>-0.407747</td>\n",
              "      <td>-0.679338</td>\n",
              "      <td>-0.602122</td>\n",
              "      <td>0.929294</td>\n",
              "      <td>-0.853011</td>\n",
              "      <td>0.359910</td>\n",
              "      <td>-0.058526</td>\n",
              "      <td>0.256892</td>\n",
              "      <td>-0.224848</td>\n",
              "      <td>0.264106</td>\n",
              "      <td>-0.095246</td>\n",
              "      <td>0.278851</td>\n",
              "      <td>-0.465085</td>\n",
              "      <td>0.491936</td>\n",
              "      <td>-0.190884</td>\n",
              "      <td>0.376314</td>\n",
              "      <td>0.435129</td>\n",
              "      <td>0.660790</td>\n",
              "      <td>...</td>\n",
              "      <td>-1.0</td>\n",
              "      <td>-0.936508</td>\n",
              "      <td>0.346989</td>\n",
              "      <td>-0.516080</td>\n",
              "      <td>-0.802760</td>\n",
              "      <td>-0.980135</td>\n",
              "      <td>-0.961309</td>\n",
              "      <td>-0.973653</td>\n",
              "      <td>-0.952264</td>\n",
              "      <td>-0.989498</td>\n",
              "      <td>-0.980135</td>\n",
              "      <td>-0.999240</td>\n",
              "      <td>-0.992656</td>\n",
              "      <td>-0.701291</td>\n",
              "      <td>-1.000000</td>\n",
              "      <td>-0.128989</td>\n",
              "      <td>0.586156</td>\n",
              "      <td>0.374605</td>\n",
              "      <td>-0.991990</td>\n",
              "      <td>-0.990697</td>\n",
              "      <td>-0.989941</td>\n",
              "      <td>-0.992448</td>\n",
              "      <td>-0.991048</td>\n",
              "      <td>-0.991990</td>\n",
              "      <td>-0.999937</td>\n",
              "      <td>-0.990458</td>\n",
              "      <td>-0.871306</td>\n",
              "      <td>-1.000000</td>\n",
              "      <td>-0.074323</td>\n",
              "      <td>-0.298676</td>\n",
              "      <td>-0.710304</td>\n",
              "      <td>-0.112754</td>\n",
              "      <td>0.030400</td>\n",
              "      <td>-0.464761</td>\n",
              "      <td>-0.018446</td>\n",
              "      <td>-0.841247</td>\n",
              "      <td>0.179941</td>\n",
              "      <td>-0.058627</td>\n",
              "      <td>1</td>\n",
              "      <td>STANDING</td>\n",
              "    </tr>\n",
              "    <tr>\n",
              "      <th>1</th>\n",
              "      <td>0.278419</td>\n",
              "      <td>-0.016411</td>\n",
              "      <td>-0.123520</td>\n",
              "      <td>-0.998245</td>\n",
              "      <td>-0.975300</td>\n",
              "      <td>-0.960322</td>\n",
              "      <td>-0.998807</td>\n",
              "      <td>-0.974914</td>\n",
              "      <td>-0.957686</td>\n",
              "      <td>-0.943068</td>\n",
              "      <td>-0.557851</td>\n",
              "      <td>-0.818409</td>\n",
              "      <td>0.849308</td>\n",
              "      <td>0.685845</td>\n",
              "      <td>0.822637</td>\n",
              "      <td>-0.981930</td>\n",
              "      <td>-0.999991</td>\n",
              "      <td>-0.999788</td>\n",
              "      <td>-0.998405</td>\n",
              "      <td>-0.999150</td>\n",
              "      <td>-0.977866</td>\n",
              "      <td>-0.948225</td>\n",
              "      <td>-0.714892</td>\n",
              "      <td>-0.500930</td>\n",
              "      <td>-0.570979</td>\n",
              "      <td>0.611627</td>\n",
              "      <td>-0.329549</td>\n",
              "      <td>0.284213</td>\n",
              "      <td>0.284595</td>\n",
              "      <td>0.115705</td>\n",
              "      <td>-0.090963</td>\n",
              "      <td>0.294310</td>\n",
              "      <td>-0.281211</td>\n",
              "      <td>0.085988</td>\n",
              "      <td>-0.022153</td>\n",
              "      <td>-0.016657</td>\n",
              "      <td>-0.220643</td>\n",
              "      <td>-0.013429</td>\n",
              "      <td>-0.072692</td>\n",
              "      <td>0.579382</td>\n",
              "      <td>...</td>\n",
              "      <td>-1.0</td>\n",
              "      <td>-0.841270</td>\n",
              "      <td>0.532061</td>\n",
              "      <td>-0.624871</td>\n",
              "      <td>-0.900160</td>\n",
              "      <td>-0.988296</td>\n",
              "      <td>-0.983322</td>\n",
              "      <td>-0.982659</td>\n",
              "      <td>-0.986321</td>\n",
              "      <td>-0.991829</td>\n",
              "      <td>-0.988296</td>\n",
              "      <td>-0.999811</td>\n",
              "      <td>-0.993979</td>\n",
              "      <td>-0.720683</td>\n",
              "      <td>-0.948718</td>\n",
              "      <td>-0.271958</td>\n",
              "      <td>-0.336310</td>\n",
              "      <td>-0.720015</td>\n",
              "      <td>-0.995854</td>\n",
              "      <td>-0.996399</td>\n",
              "      <td>-0.995442</td>\n",
              "      <td>-0.996866</td>\n",
              "      <td>-0.994440</td>\n",
              "      <td>-0.995854</td>\n",
              "      <td>-0.999981</td>\n",
              "      <td>-0.994544</td>\n",
              "      <td>-1.000000</td>\n",
              "      <td>-1.000000</td>\n",
              "      <td>0.158075</td>\n",
              "      <td>-0.595051</td>\n",
              "      <td>-0.861499</td>\n",
              "      <td>0.053477</td>\n",
              "      <td>-0.007435</td>\n",
              "      <td>-0.732626</td>\n",
              "      <td>0.703511</td>\n",
              "      <td>-0.844788</td>\n",
              "      <td>0.180289</td>\n",
              "      <td>-0.054317</td>\n",
              "      <td>1</td>\n",
              "      <td>STANDING</td>\n",
              "    </tr>\n",
              "    <tr>\n",
              "      <th>2</th>\n",
              "      <td>0.279653</td>\n",
              "      <td>-0.019467</td>\n",
              "      <td>-0.113462</td>\n",
              "      <td>-0.995380</td>\n",
              "      <td>-0.967187</td>\n",
              "      <td>-0.978944</td>\n",
              "      <td>-0.996520</td>\n",
              "      <td>-0.963668</td>\n",
              "      <td>-0.977469</td>\n",
              "      <td>-0.938692</td>\n",
              "      <td>-0.557851</td>\n",
              "      <td>-0.818409</td>\n",
              "      <td>0.843609</td>\n",
              "      <td>0.682401</td>\n",
              "      <td>0.839344</td>\n",
              "      <td>-0.983478</td>\n",
              "      <td>-0.999969</td>\n",
              "      <td>-0.999660</td>\n",
              "      <td>-0.999470</td>\n",
              "      <td>-0.997130</td>\n",
              "      <td>-0.964810</td>\n",
              "      <td>-0.974675</td>\n",
              "      <td>-0.592235</td>\n",
              "      <td>-0.485821</td>\n",
              "      <td>-0.570979</td>\n",
              "      <td>0.273025</td>\n",
              "      <td>-0.086309</td>\n",
              "      <td>0.337202</td>\n",
              "      <td>-0.164739</td>\n",
              "      <td>0.017150</td>\n",
              "      <td>-0.074507</td>\n",
              "      <td>0.342256</td>\n",
              "      <td>-0.332564</td>\n",
              "      <td>0.239281</td>\n",
              "      <td>-0.136204</td>\n",
              "      <td>0.173863</td>\n",
              "      <td>-0.299493</td>\n",
              "      <td>-0.124698</td>\n",
              "      <td>-0.181105</td>\n",
              "      <td>0.608900</td>\n",
              "      <td>...</td>\n",
              "      <td>-1.0</td>\n",
              "      <td>-0.904762</td>\n",
              "      <td>0.660795</td>\n",
              "      <td>-0.724697</td>\n",
              "      <td>-0.928539</td>\n",
              "      <td>-0.989255</td>\n",
              "      <td>-0.986028</td>\n",
              "      <td>-0.984274</td>\n",
              "      <td>-0.990979</td>\n",
              "      <td>-0.995703</td>\n",
              "      <td>-0.989255</td>\n",
              "      <td>-0.999854</td>\n",
              "      <td>-0.993238</td>\n",
              "      <td>-0.736521</td>\n",
              "      <td>-0.794872</td>\n",
              "      <td>-0.212728</td>\n",
              "      <td>-0.535352</td>\n",
              "      <td>-0.871914</td>\n",
              "      <td>-0.995031</td>\n",
              "      <td>-0.995127</td>\n",
              "      <td>-0.994640</td>\n",
              "      <td>-0.996060</td>\n",
              "      <td>-0.995866</td>\n",
              "      <td>-0.995031</td>\n",
              "      <td>-0.999973</td>\n",
              "      <td>-0.993755</td>\n",
              "      <td>-1.000000</td>\n",
              "      <td>-0.555556</td>\n",
              "      <td>0.414503</td>\n",
              "      <td>-0.390748</td>\n",
              "      <td>-0.760104</td>\n",
              "      <td>-0.118559</td>\n",
              "      <td>0.177899</td>\n",
              "      <td>0.100699</td>\n",
              "      <td>0.808529</td>\n",
              "      <td>-0.848933</td>\n",
              "      <td>0.180637</td>\n",
              "      <td>-0.049118</td>\n",
              "      <td>1</td>\n",
              "      <td>STANDING</td>\n",
              "    </tr>\n",
              "    <tr>\n",
              "      <th>3</th>\n",
              "      <td>0.279174</td>\n",
              "      <td>-0.026201</td>\n",
              "      <td>-0.123283</td>\n",
              "      <td>-0.996091</td>\n",
              "      <td>-0.983403</td>\n",
              "      <td>-0.990675</td>\n",
              "      <td>-0.997099</td>\n",
              "      <td>-0.982750</td>\n",
              "      <td>-0.989302</td>\n",
              "      <td>-0.938692</td>\n",
              "      <td>-0.576159</td>\n",
              "      <td>-0.829711</td>\n",
              "      <td>0.843609</td>\n",
              "      <td>0.682401</td>\n",
              "      <td>0.837869</td>\n",
              "      <td>-0.986093</td>\n",
              "      <td>-0.999976</td>\n",
              "      <td>-0.999736</td>\n",
              "      <td>-0.999504</td>\n",
              "      <td>-0.997180</td>\n",
              "      <td>-0.983799</td>\n",
              "      <td>-0.986007</td>\n",
              "      <td>-0.627446</td>\n",
              "      <td>-0.850930</td>\n",
              "      <td>-0.911872</td>\n",
              "      <td>0.061436</td>\n",
              "      <td>0.074840</td>\n",
              "      <td>0.198204</td>\n",
              "      <td>-0.264307</td>\n",
              "      <td>0.072545</td>\n",
              "      <td>-0.155320</td>\n",
              "      <td>0.323154</td>\n",
              "      <td>-0.170813</td>\n",
              "      <td>0.294938</td>\n",
              "      <td>-0.306081</td>\n",
              "      <td>0.482148</td>\n",
              "      <td>-0.470129</td>\n",
              "      <td>-0.305693</td>\n",
              "      <td>-0.362654</td>\n",
              "      <td>0.507459</td>\n",
              "      <td>...</td>\n",
              "      <td>-1.0</td>\n",
              "      <td>1.000000</td>\n",
              "      <td>0.678921</td>\n",
              "      <td>-0.701131</td>\n",
              "      <td>-0.909639</td>\n",
              "      <td>-0.989413</td>\n",
              "      <td>-0.987836</td>\n",
              "      <td>-0.986850</td>\n",
              "      <td>-0.986749</td>\n",
              "      <td>-0.996199</td>\n",
              "      <td>-0.989413</td>\n",
              "      <td>-0.999876</td>\n",
              "      <td>-0.989136</td>\n",
              "      <td>-0.720891</td>\n",
              "      <td>-1.000000</td>\n",
              "      <td>-0.035684</td>\n",
              "      <td>-0.230091</td>\n",
              "      <td>-0.511217</td>\n",
              "      <td>-0.995221</td>\n",
              "      <td>-0.995237</td>\n",
              "      <td>-0.995722</td>\n",
              "      <td>-0.995273</td>\n",
              "      <td>-0.995732</td>\n",
              "      <td>-0.995221</td>\n",
              "      <td>-0.999974</td>\n",
              "      <td>-0.995226</td>\n",
              "      <td>-0.955696</td>\n",
              "      <td>-0.936508</td>\n",
              "      <td>0.404573</td>\n",
              "      <td>-0.117290</td>\n",
              "      <td>-0.482845</td>\n",
              "      <td>-0.036788</td>\n",
              "      <td>-0.012892</td>\n",
              "      <td>0.640011</td>\n",
              "      <td>-0.485366</td>\n",
              "      <td>-0.848649</td>\n",
              "      <td>0.181935</td>\n",
              "      <td>-0.047663</td>\n",
              "      <td>1</td>\n",
              "      <td>STANDING</td>\n",
              "    </tr>\n",
              "    <tr>\n",
              "      <th>4</th>\n",
              "      <td>0.276629</td>\n",
              "      <td>-0.016570</td>\n",
              "      <td>-0.115362</td>\n",
              "      <td>-0.998139</td>\n",
              "      <td>-0.980817</td>\n",
              "      <td>-0.990482</td>\n",
              "      <td>-0.998321</td>\n",
              "      <td>-0.979672</td>\n",
              "      <td>-0.990441</td>\n",
              "      <td>-0.942469</td>\n",
              "      <td>-0.569174</td>\n",
              "      <td>-0.824705</td>\n",
              "      <td>0.849095</td>\n",
              "      <td>0.683250</td>\n",
              "      <td>0.837869</td>\n",
              "      <td>-0.992653</td>\n",
              "      <td>-0.999991</td>\n",
              "      <td>-0.999856</td>\n",
              "      <td>-0.999757</td>\n",
              "      <td>-0.998004</td>\n",
              "      <td>-0.981232</td>\n",
              "      <td>-0.991325</td>\n",
              "      <td>-0.786553</td>\n",
              "      <td>-0.559477</td>\n",
              "      <td>-0.761434</td>\n",
              "      <td>0.313276</td>\n",
              "      <td>-0.131208</td>\n",
              "      <td>0.191161</td>\n",
              "      <td>0.086904</td>\n",
              "      <td>0.257615</td>\n",
              "      <td>-0.272505</td>\n",
              "      <td>0.434728</td>\n",
              "      <td>-0.315375</td>\n",
              "      <td>0.439744</td>\n",
              "      <td>-0.269069</td>\n",
              "      <td>0.179414</td>\n",
              "      <td>-0.088952</td>\n",
              "      <td>-0.155804</td>\n",
              "      <td>-0.189763</td>\n",
              "      <td>0.599213</td>\n",
              "      <td>...</td>\n",
              "      <td>-1.0</td>\n",
              "      <td>-1.000000</td>\n",
              "      <td>0.559058</td>\n",
              "      <td>-0.528901</td>\n",
              "      <td>-0.858933</td>\n",
              "      <td>-0.991433</td>\n",
              "      <td>-0.989059</td>\n",
              "      <td>-0.987744</td>\n",
              "      <td>-0.991462</td>\n",
              "      <td>-0.998353</td>\n",
              "      <td>-0.991433</td>\n",
              "      <td>-0.999902</td>\n",
              "      <td>-0.989321</td>\n",
              "      <td>-0.763372</td>\n",
              "      <td>-0.897436</td>\n",
              "      <td>-0.273582</td>\n",
              "      <td>-0.510282</td>\n",
              "      <td>-0.830702</td>\n",
              "      <td>-0.995093</td>\n",
              "      <td>-0.995465</td>\n",
              "      <td>-0.995279</td>\n",
              "      <td>-0.995609</td>\n",
              "      <td>-0.997418</td>\n",
              "      <td>-0.995093</td>\n",
              "      <td>-0.999974</td>\n",
              "      <td>-0.995487</td>\n",
              "      <td>-1.000000</td>\n",
              "      <td>-0.936508</td>\n",
              "      <td>0.087753</td>\n",
              "      <td>-0.351471</td>\n",
              "      <td>-0.699205</td>\n",
              "      <td>0.123320</td>\n",
              "      <td>0.122542</td>\n",
              "      <td>0.693578</td>\n",
              "      <td>-0.615971</td>\n",
              "      <td>-0.847865</td>\n",
              "      <td>0.185151</td>\n",
              "      <td>-0.043892</td>\n",
              "      <td>1</td>\n",
              "      <td>STANDING</td>\n",
              "    </tr>\n",
              "  </tbody>\n",
              "</table>\n",
              "<p>5 rows × 563 columns</p>\n",
              "</div>"
            ],
            "text/plain": [
              "   tBodyAcc-mean()-X  tBodyAcc-mean()-Y  ...  subject  Activity\n",
              "0           0.288585          -0.020294  ...        1  STANDING\n",
              "1           0.278419          -0.016411  ...        1  STANDING\n",
              "2           0.279653          -0.019467  ...        1  STANDING\n",
              "3           0.279174          -0.026201  ...        1  STANDING\n",
              "4           0.276629          -0.016570  ...        1  STANDING\n",
              "\n",
              "[5 rows x 563 columns]"
            ]
          },
          "metadata": {
            "tags": []
          },
          "execution_count": 98
        }
      ]
    },
    {
      "cell_type": "code",
      "metadata": {
        "id": "PdmOnf3aOcOy",
        "colab_type": "code",
        "colab": {
          "base_uri": "https://localhost:8080/",
          "height": 101
        },
        "outputId": "f753f601-d68f-463d-a3bd-07bb890cf258"
      },
      "source": [
        "train.info()"
      ],
      "execution_count": 99,
      "outputs": [
        {
          "output_type": "stream",
          "text": [
            "<class 'pandas.core.frame.DataFrame'>\n",
            "RangeIndex: 7352 entries, 0 to 7351\n",
            "Columns: 563 entries, tBodyAcc-mean()-X to Activity\n",
            "dtypes: float64(561), int64(1), object(1)\n",
            "memory usage: 31.6+ MB\n"
          ],
          "name": "stdout"
        }
      ]
    },
    {
      "cell_type": "code",
      "metadata": {
        "id": "7o22l-QaOeCA",
        "colab_type": "code",
        "colab": {
          "base_uri": "https://localhost:8080/",
          "height": 366
        },
        "outputId": "b00d74a6-1c77-445c-f14d-7633eaea5dc3"
      },
      "source": [
        "train.describe()"
      ],
      "execution_count": 100,
      "outputs": [
        {
          "output_type": "execute_result",
          "data": {
            "text/html": [
              "<div>\n",
              "<style scoped>\n",
              "    .dataframe tbody tr th:only-of-type {\n",
              "        vertical-align: middle;\n",
              "    }\n",
              "\n",
              "    .dataframe tbody tr th {\n",
              "        vertical-align: top;\n",
              "    }\n",
              "\n",
              "    .dataframe thead th {\n",
              "        text-align: right;\n",
              "    }\n",
              "</style>\n",
              "<table border=\"1\" class=\"dataframe\">\n",
              "  <thead>\n",
              "    <tr style=\"text-align: right;\">\n",
              "      <th></th>\n",
              "      <th>tBodyAcc-mean()-X</th>\n",
              "      <th>tBodyAcc-mean()-Y</th>\n",
              "      <th>tBodyAcc-mean()-Z</th>\n",
              "      <th>tBodyAcc-std()-X</th>\n",
              "      <th>tBodyAcc-std()-Y</th>\n",
              "      <th>tBodyAcc-std()-Z</th>\n",
              "      <th>tBodyAcc-mad()-X</th>\n",
              "      <th>tBodyAcc-mad()-Y</th>\n",
              "      <th>tBodyAcc-mad()-Z</th>\n",
              "      <th>tBodyAcc-max()-X</th>\n",
              "      <th>tBodyAcc-max()-Y</th>\n",
              "      <th>tBodyAcc-max()-Z</th>\n",
              "      <th>tBodyAcc-min()-X</th>\n",
              "      <th>tBodyAcc-min()-Y</th>\n",
              "      <th>tBodyAcc-min()-Z</th>\n",
              "      <th>tBodyAcc-sma()</th>\n",
              "      <th>tBodyAcc-energy()-X</th>\n",
              "      <th>tBodyAcc-energy()-Y</th>\n",
              "      <th>tBodyAcc-energy()-Z</th>\n",
              "      <th>tBodyAcc-iqr()-X</th>\n",
              "      <th>tBodyAcc-iqr()-Y</th>\n",
              "      <th>tBodyAcc-iqr()-Z</th>\n",
              "      <th>tBodyAcc-entropy()-X</th>\n",
              "      <th>tBodyAcc-entropy()-Y</th>\n",
              "      <th>tBodyAcc-entropy()-Z</th>\n",
              "      <th>tBodyAcc-arCoeff()-X,1</th>\n",
              "      <th>tBodyAcc-arCoeff()-X,2</th>\n",
              "      <th>tBodyAcc-arCoeff()-X,3</th>\n",
              "      <th>tBodyAcc-arCoeff()-X,4</th>\n",
              "      <th>tBodyAcc-arCoeff()-Y,1</th>\n",
              "      <th>tBodyAcc-arCoeff()-Y,2</th>\n",
              "      <th>tBodyAcc-arCoeff()-Y,3</th>\n",
              "      <th>tBodyAcc-arCoeff()-Y,4</th>\n",
              "      <th>tBodyAcc-arCoeff()-Z,1</th>\n",
              "      <th>tBodyAcc-arCoeff()-Z,2</th>\n",
              "      <th>tBodyAcc-arCoeff()-Z,3</th>\n",
              "      <th>tBodyAcc-arCoeff()-Z,4</th>\n",
              "      <th>tBodyAcc-correlation()-X,Y</th>\n",
              "      <th>tBodyAcc-correlation()-X,Z</th>\n",
              "      <th>tBodyAcc-correlation()-Y,Z</th>\n",
              "      <th>...</th>\n",
              "      <th>fBodyBodyAccJerkMag-iqr()</th>\n",
              "      <th>fBodyBodyAccJerkMag-entropy()</th>\n",
              "      <th>fBodyBodyAccJerkMag-maxInds</th>\n",
              "      <th>fBodyBodyAccJerkMag-meanFreq()</th>\n",
              "      <th>fBodyBodyAccJerkMag-skewness()</th>\n",
              "      <th>fBodyBodyAccJerkMag-kurtosis()</th>\n",
              "      <th>fBodyBodyGyroMag-mean()</th>\n",
              "      <th>fBodyBodyGyroMag-std()</th>\n",
              "      <th>fBodyBodyGyroMag-mad()</th>\n",
              "      <th>fBodyBodyGyroMag-max()</th>\n",
              "      <th>fBodyBodyGyroMag-min()</th>\n",
              "      <th>fBodyBodyGyroMag-sma()</th>\n",
              "      <th>fBodyBodyGyroMag-energy()</th>\n",
              "      <th>fBodyBodyGyroMag-iqr()</th>\n",
              "      <th>fBodyBodyGyroMag-entropy()</th>\n",
              "      <th>fBodyBodyGyroMag-maxInds</th>\n",
              "      <th>fBodyBodyGyroMag-meanFreq()</th>\n",
              "      <th>fBodyBodyGyroMag-skewness()</th>\n",
              "      <th>fBodyBodyGyroMag-kurtosis()</th>\n",
              "      <th>fBodyBodyGyroJerkMag-mean()</th>\n",
              "      <th>fBodyBodyGyroJerkMag-std()</th>\n",
              "      <th>fBodyBodyGyroJerkMag-mad()</th>\n",
              "      <th>fBodyBodyGyroJerkMag-max()</th>\n",
              "      <th>fBodyBodyGyroJerkMag-min()</th>\n",
              "      <th>fBodyBodyGyroJerkMag-sma()</th>\n",
              "      <th>fBodyBodyGyroJerkMag-energy()</th>\n",
              "      <th>fBodyBodyGyroJerkMag-iqr()</th>\n",
              "      <th>fBodyBodyGyroJerkMag-entropy()</th>\n",
              "      <th>fBodyBodyGyroJerkMag-maxInds</th>\n",
              "      <th>fBodyBodyGyroJerkMag-meanFreq()</th>\n",
              "      <th>fBodyBodyGyroJerkMag-skewness()</th>\n",
              "      <th>fBodyBodyGyroJerkMag-kurtosis()</th>\n",
              "      <th>angle(tBodyAccMean,gravity)</th>\n",
              "      <th>angle(tBodyAccJerkMean),gravityMean)</th>\n",
              "      <th>angle(tBodyGyroMean,gravityMean)</th>\n",
              "      <th>angle(tBodyGyroJerkMean,gravityMean)</th>\n",
              "      <th>angle(X,gravityMean)</th>\n",
              "      <th>angle(Y,gravityMean)</th>\n",
              "      <th>angle(Z,gravityMean)</th>\n",
              "      <th>subject</th>\n",
              "    </tr>\n",
              "  </thead>\n",
              "  <tbody>\n",
              "    <tr>\n",
              "      <th>count</th>\n",
              "      <td>7352.000000</td>\n",
              "      <td>7352.000000</td>\n",
              "      <td>7352.000000</td>\n",
              "      <td>7352.000000</td>\n",
              "      <td>7352.000000</td>\n",
              "      <td>7352.000000</td>\n",
              "      <td>7352.000000</td>\n",
              "      <td>7352.000000</td>\n",
              "      <td>7352.000000</td>\n",
              "      <td>7352.000000</td>\n",
              "      <td>7352.000000</td>\n",
              "      <td>7352.000000</td>\n",
              "      <td>7352.000000</td>\n",
              "      <td>7352.000000</td>\n",
              "      <td>7352.000000</td>\n",
              "      <td>7352.000000</td>\n",
              "      <td>7352.000000</td>\n",
              "      <td>7352.000000</td>\n",
              "      <td>7352.000000</td>\n",
              "      <td>7352.000000</td>\n",
              "      <td>7352.000000</td>\n",
              "      <td>7352.000000</td>\n",
              "      <td>7352.000000</td>\n",
              "      <td>7352.000000</td>\n",
              "      <td>7352.000000</td>\n",
              "      <td>7352.000000</td>\n",
              "      <td>7352.000000</td>\n",
              "      <td>7352.000000</td>\n",
              "      <td>7352.000000</td>\n",
              "      <td>7352.000000</td>\n",
              "      <td>7352.000000</td>\n",
              "      <td>7352.000000</td>\n",
              "      <td>7352.000000</td>\n",
              "      <td>7352.000000</td>\n",
              "      <td>7352.000000</td>\n",
              "      <td>7352.000000</td>\n",
              "      <td>7352.000000</td>\n",
              "      <td>7352.000000</td>\n",
              "      <td>7352.000000</td>\n",
              "      <td>7352.000000</td>\n",
              "      <td>...</td>\n",
              "      <td>7352.000000</td>\n",
              "      <td>7352.000000</td>\n",
              "      <td>7352.000000</td>\n",
              "      <td>7352.000000</td>\n",
              "      <td>7352.000000</td>\n",
              "      <td>7352.000000</td>\n",
              "      <td>7352.000000</td>\n",
              "      <td>7352.000000</td>\n",
              "      <td>7352.000000</td>\n",
              "      <td>7352.000000</td>\n",
              "      <td>7352.000000</td>\n",
              "      <td>7352.000000</td>\n",
              "      <td>7352.000000</td>\n",
              "      <td>7352.000000</td>\n",
              "      <td>7352.000000</td>\n",
              "      <td>7352.000000</td>\n",
              "      <td>7352.000000</td>\n",
              "      <td>7352.000000</td>\n",
              "      <td>7352.000000</td>\n",
              "      <td>7352.000000</td>\n",
              "      <td>7352.000000</td>\n",
              "      <td>7352.000000</td>\n",
              "      <td>7352.000000</td>\n",
              "      <td>7352.000000</td>\n",
              "      <td>7352.000000</td>\n",
              "      <td>7352.000000</td>\n",
              "      <td>7352.000000</td>\n",
              "      <td>7352.000000</td>\n",
              "      <td>7352.000000</td>\n",
              "      <td>7352.000000</td>\n",
              "      <td>7352.000000</td>\n",
              "      <td>7352.000000</td>\n",
              "      <td>7352.000000</td>\n",
              "      <td>7352.000000</td>\n",
              "      <td>7352.000000</td>\n",
              "      <td>7352.000000</td>\n",
              "      <td>7352.000000</td>\n",
              "      <td>7352.000000</td>\n",
              "      <td>7352.000000</td>\n",
              "      <td>7352.000000</td>\n",
              "    </tr>\n",
              "    <tr>\n",
              "      <th>mean</th>\n",
              "      <td>0.274488</td>\n",
              "      <td>-0.017695</td>\n",
              "      <td>-0.109141</td>\n",
              "      <td>-0.605438</td>\n",
              "      <td>-0.510938</td>\n",
              "      <td>-0.604754</td>\n",
              "      <td>-0.630512</td>\n",
              "      <td>-0.526907</td>\n",
              "      <td>-0.606150</td>\n",
              "      <td>-0.468604</td>\n",
              "      <td>-0.306043</td>\n",
              "      <td>-0.557121</td>\n",
              "      <td>0.523551</td>\n",
              "      <td>0.387386</td>\n",
              "      <td>0.594374</td>\n",
              "      <td>-0.547569</td>\n",
              "      <td>-0.820041</td>\n",
              "      <td>-0.901874</td>\n",
              "      <td>-0.845784</td>\n",
              "      <td>-0.684345</td>\n",
              "      <td>-0.643770</td>\n",
              "      <td>-0.631069</td>\n",
              "      <td>-0.102993</td>\n",
              "      <td>-0.137937</td>\n",
              "      <td>-0.163946</td>\n",
              "      <td>-0.116599</td>\n",
              "      <td>0.102762</td>\n",
              "      <td>-0.037786</td>\n",
              "      <td>0.130477</td>\n",
              "      <td>-0.026229</td>\n",
              "      <td>0.026322</td>\n",
              "      <td>0.159966</td>\n",
              "      <td>-0.019575</td>\n",
              "      <td>0.009420</td>\n",
              "      <td>0.033291</td>\n",
              "      <td>0.036587</td>\n",
              "      <td>-0.078640</td>\n",
              "      <td>-0.125131</td>\n",
              "      <td>-0.193802</td>\n",
              "      <td>0.105005</td>\n",
              "      <td>...</td>\n",
              "      <td>-0.678618</td>\n",
              "      <td>-0.347657</td>\n",
              "      <td>-0.877995</td>\n",
              "      <td>0.178195</td>\n",
              "      <td>-0.312968</td>\n",
              "      <td>-0.615441</td>\n",
              "      <td>-0.693210</td>\n",
              "      <td>-0.692876</td>\n",
              "      <td>-0.674830</td>\n",
              "      <td>-0.726645</td>\n",
              "      <td>-0.885103</td>\n",
              "      <td>-0.693210</td>\n",
              "      <td>-0.874292</td>\n",
              "      <td>-0.719795</td>\n",
              "      <td>-0.087878</td>\n",
              "      <td>-0.889442</td>\n",
              "      <td>-0.046516</td>\n",
              "      <td>-0.253649</td>\n",
              "      <td>-0.565425</td>\n",
              "      <td>-0.779376</td>\n",
              "      <td>-0.792391</td>\n",
              "      <td>-0.772836</td>\n",
              "      <td>-0.811409</td>\n",
              "      <td>-0.871927</td>\n",
              "      <td>-0.779376</td>\n",
              "      <td>-0.935785</td>\n",
              "      <td>-0.771497</td>\n",
              "      <td>-0.284627</td>\n",
              "      <td>-0.898859</td>\n",
              "      <td>0.125293</td>\n",
              "      <td>-0.307009</td>\n",
              "      <td>-0.625294</td>\n",
              "      <td>0.008684</td>\n",
              "      <td>0.002186</td>\n",
              "      <td>0.008726</td>\n",
              "      <td>-0.005981</td>\n",
              "      <td>-0.489547</td>\n",
              "      <td>0.058593</td>\n",
              "      <td>-0.056515</td>\n",
              "      <td>17.413085</td>\n",
              "    </tr>\n",
              "    <tr>\n",
              "      <th>std</th>\n",
              "      <td>0.070261</td>\n",
              "      <td>0.040811</td>\n",
              "      <td>0.056635</td>\n",
              "      <td>0.448734</td>\n",
              "      <td>0.502645</td>\n",
              "      <td>0.418687</td>\n",
              "      <td>0.424073</td>\n",
              "      <td>0.485942</td>\n",
              "      <td>0.414122</td>\n",
              "      <td>0.544547</td>\n",
              "      <td>0.282243</td>\n",
              "      <td>0.293867</td>\n",
              "      <td>0.363594</td>\n",
              "      <td>0.343611</td>\n",
              "      <td>0.297818</td>\n",
              "      <td>0.471808</td>\n",
              "      <td>0.259607</td>\n",
              "      <td>0.126333</td>\n",
              "      <td>0.221983</td>\n",
              "      <td>0.371608</td>\n",
              "      <td>0.371581</td>\n",
              "      <td>0.386569</td>\n",
              "      <td>0.468959</td>\n",
              "      <td>0.437268</td>\n",
              "      <td>0.371363</td>\n",
              "      <td>0.306507</td>\n",
              "      <td>0.246593</td>\n",
              "      <td>0.243635</td>\n",
              "      <td>0.230067</td>\n",
              "      <td>0.257383</td>\n",
              "      <td>0.215001</td>\n",
              "      <td>0.208837</td>\n",
              "      <td>0.221432</td>\n",
              "      <td>0.286081</td>\n",
              "      <td>0.216289</td>\n",
              "      <td>0.236226</td>\n",
              "      <td>0.232757</td>\n",
              "      <td>0.363155</td>\n",
              "      <td>0.331122</td>\n",
              "      <td>0.385379</td>\n",
              "      <td>...</td>\n",
              "      <td>0.370612</td>\n",
              "      <td>0.670112</td>\n",
              "      <td>0.188636</td>\n",
              "      <td>0.253755</td>\n",
              "      <td>0.358631</td>\n",
              "      <td>0.345329</td>\n",
              "      <td>0.335026</td>\n",
              "      <td>0.322850</td>\n",
              "      <td>0.343454</td>\n",
              "      <td>0.293098</td>\n",
              "      <td>0.173574</td>\n",
              "      <td>0.335026</td>\n",
              "      <td>0.192684</td>\n",
              "      <td>0.318706</td>\n",
              "      <td>0.611793</td>\n",
              "      <td>0.157653</td>\n",
              "      <td>0.282665</td>\n",
              "      <td>0.326624</td>\n",
              "      <td>0.326620</td>\n",
              "      <td>0.275733</td>\n",
              "      <td>0.265434</td>\n",
              "      <td>0.287613</td>\n",
              "      <td>0.246680</td>\n",
              "      <td>0.193344</td>\n",
              "      <td>0.275733</td>\n",
              "      <td>0.138683</td>\n",
              "      <td>0.287577</td>\n",
              "      <td>0.630896</td>\n",
              "      <td>0.143135</td>\n",
              "      <td>0.250994</td>\n",
              "      <td>0.321011</td>\n",
              "      <td>0.307584</td>\n",
              "      <td>0.336787</td>\n",
              "      <td>0.448306</td>\n",
              "      <td>0.608303</td>\n",
              "      <td>0.477975</td>\n",
              "      <td>0.511807</td>\n",
              "      <td>0.297480</td>\n",
              "      <td>0.279122</td>\n",
              "      <td>8.975143</td>\n",
              "    </tr>\n",
              "    <tr>\n",
              "      <th>min</th>\n",
              "      <td>-1.000000</td>\n",
              "      <td>-1.000000</td>\n",
              "      <td>-1.000000</td>\n",
              "      <td>-1.000000</td>\n",
              "      <td>-0.999873</td>\n",
              "      <td>-1.000000</td>\n",
              "      <td>-1.000000</td>\n",
              "      <td>-1.000000</td>\n",
              "      <td>-1.000000</td>\n",
              "      <td>-1.000000</td>\n",
              "      <td>-1.000000</td>\n",
              "      <td>-1.000000</td>\n",
              "      <td>-1.000000</td>\n",
              "      <td>-1.000000</td>\n",
              "      <td>-1.000000</td>\n",
              "      <td>-1.000000</td>\n",
              "      <td>-1.000000</td>\n",
              "      <td>-0.999999</td>\n",
              "      <td>-1.000000</td>\n",
              "      <td>-1.000000</td>\n",
              "      <td>-1.000000</td>\n",
              "      <td>-1.000000</td>\n",
              "      <td>-1.000000</td>\n",
              "      <td>-1.000000</td>\n",
              "      <td>-1.000000</td>\n",
              "      <td>-0.925897</td>\n",
              "      <td>-0.963099</td>\n",
              "      <td>-1.000000</td>\n",
              "      <td>-0.822053</td>\n",
              "      <td>-1.000000</td>\n",
              "      <td>-1.000000</td>\n",
              "      <td>-1.000000</td>\n",
              "      <td>-1.000000</td>\n",
              "      <td>-1.000000</td>\n",
              "      <td>-0.753754</td>\n",
              "      <td>-1.000000</td>\n",
              "      <td>-1.000000</td>\n",
              "      <td>-1.000000</td>\n",
              "      <td>-1.000000</td>\n",
              "      <td>-0.972219</td>\n",
              "      <td>...</td>\n",
              "      <td>-0.999499</td>\n",
              "      <td>-1.000000</td>\n",
              "      <td>-1.000000</td>\n",
              "      <td>-1.000000</td>\n",
              "      <td>-1.000000</td>\n",
              "      <td>-1.000000</td>\n",
              "      <td>-1.000000</td>\n",
              "      <td>-1.000000</td>\n",
              "      <td>-1.000000</td>\n",
              "      <td>-1.000000</td>\n",
              "      <td>-1.000000</td>\n",
              "      <td>-1.000000</td>\n",
              "      <td>-1.000000</td>\n",
              "      <td>-1.000000</td>\n",
              "      <td>-1.000000</td>\n",
              "      <td>-1.000000</td>\n",
              "      <td>-0.997500</td>\n",
              "      <td>-1.000000</td>\n",
              "      <td>-1.000000</td>\n",
              "      <td>-0.999996</td>\n",
              "      <td>-1.000000</td>\n",
              "      <td>-1.000000</td>\n",
              "      <td>-1.000000</td>\n",
              "      <td>-1.000000</td>\n",
              "      <td>-0.999996</td>\n",
              "      <td>-1.000000</td>\n",
              "      <td>-1.000000</td>\n",
              "      <td>-1.000000</td>\n",
              "      <td>-1.000000</td>\n",
              "      <td>-1.000000</td>\n",
              "      <td>-0.995357</td>\n",
              "      <td>-0.999765</td>\n",
              "      <td>-0.976580</td>\n",
              "      <td>-1.000000</td>\n",
              "      <td>-1.000000</td>\n",
              "      <td>-1.000000</td>\n",
              "      <td>-1.000000</td>\n",
              "      <td>-1.000000</td>\n",
              "      <td>-1.000000</td>\n",
              "      <td>1.000000</td>\n",
              "    </tr>\n",
              "    <tr>\n",
              "      <th>25%</th>\n",
              "      <td>0.262975</td>\n",
              "      <td>-0.024863</td>\n",
              "      <td>-0.120993</td>\n",
              "      <td>-0.992754</td>\n",
              "      <td>-0.978129</td>\n",
              "      <td>-0.980233</td>\n",
              "      <td>-0.993591</td>\n",
              "      <td>-0.978162</td>\n",
              "      <td>-0.980251</td>\n",
              "      <td>-0.936219</td>\n",
              "      <td>-0.563561</td>\n",
              "      <td>-0.812744</td>\n",
              "      <td>0.197051</td>\n",
              "      <td>0.101829</td>\n",
              "      <td>0.389787</td>\n",
              "      <td>-0.982992</td>\n",
              "      <td>-0.999936</td>\n",
              "      <td>-0.999786</td>\n",
              "      <td>-0.999460</td>\n",
              "      <td>-0.994387</td>\n",
              "      <td>-0.982159</td>\n",
              "      <td>-0.979623</td>\n",
              "      <td>-0.573441</td>\n",
              "      <td>-0.559584</td>\n",
              "      <td>-0.505512</td>\n",
              "      <td>-0.364926</td>\n",
              "      <td>-0.082544</td>\n",
              "      <td>-0.190581</td>\n",
              "      <td>-0.023857</td>\n",
              "      <td>-0.221943</td>\n",
              "      <td>-0.135433</td>\n",
              "      <td>0.034430</td>\n",
              "      <td>-0.168841</td>\n",
              "      <td>-0.207296</td>\n",
              "      <td>-0.123514</td>\n",
              "      <td>-0.106542</td>\n",
              "      <td>-0.238877</td>\n",
              "      <td>-0.373937</td>\n",
              "      <td>-0.403511</td>\n",
              "      <td>-0.147970</td>\n",
              "      <td>...</td>\n",
              "      <td>-0.989044</td>\n",
              "      <td>-1.000000</td>\n",
              "      <td>-0.968254</td>\n",
              "      <td>-0.000409</td>\n",
              "      <td>-0.607485</td>\n",
              "      <td>-0.882254</td>\n",
              "      <td>-0.984123</td>\n",
              "      <td>-0.980329</td>\n",
              "      <td>-0.980453</td>\n",
              "      <td>-0.981029</td>\n",
              "      <td>-0.994189</td>\n",
              "      <td>-0.984123</td>\n",
              "      <td>-0.999725</td>\n",
              "      <td>-0.986633</td>\n",
              "      <td>-0.690397</td>\n",
              "      <td>-1.000000</td>\n",
              "      <td>-0.240882</td>\n",
              "      <td>-0.492028</td>\n",
              "      <td>-0.802207</td>\n",
              "      <td>-0.993100</td>\n",
              "      <td>-0.993508</td>\n",
              "      <td>-0.992736</td>\n",
              "      <td>-0.994355</td>\n",
              "      <td>-0.994065</td>\n",
              "      <td>-0.993100</td>\n",
              "      <td>-0.999957</td>\n",
              "      <td>-0.992268</td>\n",
              "      <td>-0.955696</td>\n",
              "      <td>-0.968254</td>\n",
              "      <td>-0.023692</td>\n",
              "      <td>-0.542602</td>\n",
              "      <td>-0.845573</td>\n",
              "      <td>-0.121527</td>\n",
              "      <td>-0.289549</td>\n",
              "      <td>-0.482273</td>\n",
              "      <td>-0.376341</td>\n",
              "      <td>-0.812065</td>\n",
              "      <td>-0.017885</td>\n",
              "      <td>-0.143414</td>\n",
              "      <td>8.000000</td>\n",
              "    </tr>\n",
              "    <tr>\n",
              "      <th>50%</th>\n",
              "      <td>0.277193</td>\n",
              "      <td>-0.017219</td>\n",
              "      <td>-0.108676</td>\n",
              "      <td>-0.946196</td>\n",
              "      <td>-0.851897</td>\n",
              "      <td>-0.859365</td>\n",
              "      <td>-0.950709</td>\n",
              "      <td>-0.857328</td>\n",
              "      <td>-0.857143</td>\n",
              "      <td>-0.881637</td>\n",
              "      <td>-0.479677</td>\n",
              "      <td>-0.736516</td>\n",
              "      <td>0.792060</td>\n",
              "      <td>0.627737</td>\n",
              "      <td>0.778059</td>\n",
              "      <td>-0.885461</td>\n",
              "      <td>-0.998046</td>\n",
              "      <td>-0.994065</td>\n",
              "      <td>-0.985546</td>\n",
              "      <td>-0.957859</td>\n",
              "      <td>-0.896093</td>\n",
              "      <td>-0.864515</td>\n",
              "      <td>-0.073369</td>\n",
              "      <td>-0.136793</td>\n",
              "      <td>-0.148889</td>\n",
              "      <td>-0.129393</td>\n",
              "      <td>0.070073</td>\n",
              "      <td>-0.019001</td>\n",
              "      <td>0.134149</td>\n",
              "      <td>-0.040710</td>\n",
              "      <td>0.011748</td>\n",
              "      <td>0.168444</td>\n",
              "      <td>-0.022448</td>\n",
              "      <td>0.029044</td>\n",
              "      <td>0.003266</td>\n",
              "      <td>0.049432</td>\n",
              "      <td>-0.081940</td>\n",
              "      <td>-0.163728</td>\n",
              "      <td>-0.189673</td>\n",
              "      <td>0.147482</td>\n",
              "      <td>...</td>\n",
              "      <td>-0.950502</td>\n",
              "      <td>-0.740806</td>\n",
              "      <td>-0.904762</td>\n",
              "      <td>0.168645</td>\n",
              "      <td>-0.364784</td>\n",
              "      <td>-0.727332</td>\n",
              "      <td>-0.886439</td>\n",
              "      <td>-0.837698</td>\n",
              "      <td>-0.859053</td>\n",
              "      <td>-0.836296</td>\n",
              "      <td>-0.960136</td>\n",
              "      <td>-0.886439</td>\n",
              "      <td>-0.986266</td>\n",
              "      <td>-0.923298</td>\n",
              "      <td>-0.190223</td>\n",
              "      <td>-0.948718</td>\n",
              "      <td>-0.061597</td>\n",
              "      <td>-0.309252</td>\n",
              "      <td>-0.655594</td>\n",
              "      <td>-0.952398</td>\n",
              "      <td>-0.947140</td>\n",
              "      <td>-0.945223</td>\n",
              "      <td>-0.950796</td>\n",
              "      <td>-0.975676</td>\n",
              "      <td>-0.952398</td>\n",
              "      <td>-0.998471</td>\n",
              "      <td>-0.949768</td>\n",
              "      <td>-0.455569</td>\n",
              "      <td>-0.904762</td>\n",
              "      <td>0.134000</td>\n",
              "      <td>-0.343685</td>\n",
              "      <td>-0.711692</td>\n",
              "      <td>0.009509</td>\n",
              "      <td>0.008943</td>\n",
              "      <td>0.008735</td>\n",
              "      <td>-0.000368</td>\n",
              "      <td>-0.709417</td>\n",
              "      <td>0.182071</td>\n",
              "      <td>0.003181</td>\n",
              "      <td>19.000000</td>\n",
              "    </tr>\n",
              "    <tr>\n",
              "      <th>75%</th>\n",
              "      <td>0.288461</td>\n",
              "      <td>-0.010783</td>\n",
              "      <td>-0.097794</td>\n",
              "      <td>-0.242813</td>\n",
              "      <td>-0.034231</td>\n",
              "      <td>-0.262415</td>\n",
              "      <td>-0.292680</td>\n",
              "      <td>-0.066701</td>\n",
              "      <td>-0.265671</td>\n",
              "      <td>-0.017129</td>\n",
              "      <td>-0.065364</td>\n",
              "      <td>-0.332014</td>\n",
              "      <td>0.844420</td>\n",
              "      <td>0.685622</td>\n",
              "      <td>0.837323</td>\n",
              "      <td>-0.107428</td>\n",
              "      <td>-0.710707</td>\n",
              "      <td>-0.816703</td>\n",
              "      <td>-0.748018</td>\n",
              "      <td>-0.393220</td>\n",
              "      <td>-0.310548</td>\n",
              "      <td>-0.316037</td>\n",
              "      <td>0.336504</td>\n",
              "      <td>0.280170</td>\n",
              "      <td>0.164123</td>\n",
              "      <td>0.132657</td>\n",
              "      <td>0.276872</td>\n",
              "      <td>0.128635</td>\n",
              "      <td>0.285318</td>\n",
              "      <td>0.172344</td>\n",
              "      <td>0.177832</td>\n",
              "      <td>0.293410</td>\n",
              "      <td>0.130862</td>\n",
              "      <td>0.230983</td>\n",
              "      <td>0.175602</td>\n",
              "      <td>0.195556</td>\n",
              "      <td>0.079229</td>\n",
              "      <td>0.070818</td>\n",
              "      <td>0.005170</td>\n",
              "      <td>0.382231</td>\n",
              "      <td>...</td>\n",
              "      <td>-0.371989</td>\n",
              "      <td>0.350640</td>\n",
              "      <td>-0.873016</td>\n",
              "      <td>0.364240</td>\n",
              "      <td>-0.082569</td>\n",
              "      <td>-0.449997</td>\n",
              "      <td>-0.438439</td>\n",
              "      <td>-0.451900</td>\n",
              "      <td>-0.397123</td>\n",
              "      <td>-0.540666</td>\n",
              "      <td>-0.837425</td>\n",
              "      <td>-0.438439</td>\n",
              "      <td>-0.800743</td>\n",
              "      <td>-0.484202</td>\n",
              "      <td>0.515789</td>\n",
              "      <td>-0.846154</td>\n",
              "      <td>0.148795</td>\n",
              "      <td>-0.069952</td>\n",
              "      <td>-0.428376</td>\n",
              "      <td>-0.611952</td>\n",
              "      <td>-0.642627</td>\n",
              "      <td>-0.608047</td>\n",
              "      <td>-0.688776</td>\n",
              "      <td>-0.808263</td>\n",
              "      <td>-0.611952</td>\n",
              "      <td>-0.922503</td>\n",
              "      <td>-0.603952</td>\n",
              "      <td>0.336785</td>\n",
              "      <td>-0.873016</td>\n",
              "      <td>0.289096</td>\n",
              "      <td>-0.126979</td>\n",
              "      <td>-0.503878</td>\n",
              "      <td>0.150865</td>\n",
              "      <td>0.292861</td>\n",
              "      <td>0.506187</td>\n",
              "      <td>0.359368</td>\n",
              "      <td>-0.509079</td>\n",
              "      <td>0.248353</td>\n",
              "      <td>0.107659</td>\n",
              "      <td>26.000000</td>\n",
              "    </tr>\n",
              "    <tr>\n",
              "      <th>max</th>\n",
              "      <td>1.000000</td>\n",
              "      <td>1.000000</td>\n",
              "      <td>1.000000</td>\n",
              "      <td>1.000000</td>\n",
              "      <td>0.916238</td>\n",
              "      <td>1.000000</td>\n",
              "      <td>1.000000</td>\n",
              "      <td>0.967664</td>\n",
              "      <td>1.000000</td>\n",
              "      <td>1.000000</td>\n",
              "      <td>1.000000</td>\n",
              "      <td>1.000000</td>\n",
              "      <td>1.000000</td>\n",
              "      <td>1.000000</td>\n",
              "      <td>1.000000</td>\n",
              "      <td>1.000000</td>\n",
              "      <td>1.000000</td>\n",
              "      <td>1.000000</td>\n",
              "      <td>1.000000</td>\n",
              "      <td>1.000000</td>\n",
              "      <td>1.000000</td>\n",
              "      <td>1.000000</td>\n",
              "      <td>0.919662</td>\n",
              "      <td>1.000000</td>\n",
              "      <td>1.000000</td>\n",
              "      <td>1.000000</td>\n",
              "      <td>0.978449</td>\n",
              "      <td>1.000000</td>\n",
              "      <td>1.000000</td>\n",
              "      <td>1.000000</td>\n",
              "      <td>1.000000</td>\n",
              "      <td>1.000000</td>\n",
              "      <td>1.000000</td>\n",
              "      <td>0.814623</td>\n",
              "      <td>1.000000</td>\n",
              "      <td>0.997207</td>\n",
              "      <td>1.000000</td>\n",
              "      <td>1.000000</td>\n",
              "      <td>1.000000</td>\n",
              "      <td>1.000000</td>\n",
              "      <td>...</td>\n",
              "      <td>1.000000</td>\n",
              "      <td>1.000000</td>\n",
              "      <td>1.000000</td>\n",
              "      <td>0.975821</td>\n",
              "      <td>1.000000</td>\n",
              "      <td>1.000000</td>\n",
              "      <td>1.000000</td>\n",
              "      <td>1.000000</td>\n",
              "      <td>1.000000</td>\n",
              "      <td>0.842119</td>\n",
              "      <td>1.000000</td>\n",
              "      <td>1.000000</td>\n",
              "      <td>1.000000</td>\n",
              "      <td>1.000000</td>\n",
              "      <td>1.000000</td>\n",
              "      <td>1.000000</td>\n",
              "      <td>1.000000</td>\n",
              "      <td>0.969311</td>\n",
              "      <td>0.949350</td>\n",
              "      <td>1.000000</td>\n",
              "      <td>1.000000</td>\n",
              "      <td>1.000000</td>\n",
              "      <td>1.000000</td>\n",
              "      <td>1.000000</td>\n",
              "      <td>1.000000</td>\n",
              "      <td>1.000000</td>\n",
              "      <td>1.000000</td>\n",
              "      <td>1.000000</td>\n",
              "      <td>0.968254</td>\n",
              "      <td>0.946700</td>\n",
              "      <td>0.989538</td>\n",
              "      <td>0.956845</td>\n",
              "      <td>1.000000</td>\n",
              "      <td>1.000000</td>\n",
              "      <td>0.998702</td>\n",
              "      <td>0.996078</td>\n",
              "      <td>1.000000</td>\n",
              "      <td>0.478157</td>\n",
              "      <td>1.000000</td>\n",
              "      <td>30.000000</td>\n",
              "    </tr>\n",
              "  </tbody>\n",
              "</table>\n",
              "<p>8 rows × 562 columns</p>\n",
              "</div>"
            ],
            "text/plain": [
              "       tBodyAcc-mean()-X  tBodyAcc-mean()-Y  ...  angle(Z,gravityMean)      subject\n",
              "count        7352.000000        7352.000000  ...           7352.000000  7352.000000\n",
              "mean            0.274488          -0.017695  ...             -0.056515    17.413085\n",
              "std             0.070261           0.040811  ...              0.279122     8.975143\n",
              "min            -1.000000          -1.000000  ...             -1.000000     1.000000\n",
              "25%             0.262975          -0.024863  ...             -0.143414     8.000000\n",
              "50%             0.277193          -0.017219  ...              0.003181    19.000000\n",
              "75%             0.288461          -0.010783  ...              0.107659    26.000000\n",
              "max             1.000000           1.000000  ...              1.000000    30.000000\n",
              "\n",
              "[8 rows x 562 columns]"
            ]
          },
          "metadata": {
            "tags": []
          },
          "execution_count": 100
        }
      ]
    },
    {
      "cell_type": "code",
      "metadata": {
        "id": "RNVRNfrkPfBS",
        "colab_type": "code",
        "colab": {
          "base_uri": "https://localhost:8080/",
          "height": 34
        },
        "outputId": "005b1304-2d4b-44b0-d10d-496340c53a9a"
      },
      "source": [
        "train.shape"
      ],
      "execution_count": 101,
      "outputs": [
        {
          "output_type": "execute_result",
          "data": {
            "text/plain": [
              "(7352, 563)"
            ]
          },
          "metadata": {
            "tags": []
          },
          "execution_count": 101
        }
      ]
    },
    {
      "cell_type": "code",
      "metadata": {
        "id": "xjjpLa5OQRH0",
        "colab_type": "code",
        "colab": {
          "base_uri": "https://localhost:8080/",
          "height": 34
        },
        "outputId": "27bb9379-acdc-473f-d4f9-2e15cc86cf6f"
      },
      "source": [
        "test.shape"
      ],
      "execution_count": 102,
      "outputs": [
        {
          "output_type": "execute_result",
          "data": {
            "text/plain": [
              "(2947, 563)"
            ]
          },
          "metadata": {
            "tags": []
          },
          "execution_count": 102
        }
      ]
    },
    {
      "cell_type": "code",
      "metadata": {
        "id": "S6vMf4UQQTDp",
        "colab_type": "code",
        "colab": {
          "base_uri": "https://localhost:8080/",
          "height": 34
        },
        "outputId": "0d16b7bc-7fac-4a2f-d64a-5c2c9f9d06c1"
      },
      "source": [
        "train.isnull().values.any()"
      ],
      "execution_count": 103,
      "outputs": [
        {
          "output_type": "execute_result",
          "data": {
            "text/plain": [
              "False"
            ]
          },
          "metadata": {
            "tags": []
          },
          "execution_count": 103
        }
      ]
    },
    {
      "cell_type": "code",
      "metadata": {
        "id": "T98KEeu6QbwV",
        "colab_type": "code",
        "colab": {
          "base_uri": "https://localhost:8080/",
          "height": 34
        },
        "outputId": "a880dd62-dc47-4b04-fe21-4e245ffcdccf"
      },
      "source": [
        "test.isnull().values.any()"
      ],
      "execution_count": 104,
      "outputs": [
        {
          "output_type": "execute_result",
          "data": {
            "text/plain": [
              "False"
            ]
          },
          "metadata": {
            "tags": []
          },
          "execution_count": 104
        }
      ]
    },
    {
      "cell_type": "markdown",
      "metadata": {
        "id": "y7R-t9KAlHJ0",
        "colab_type": "text"
      },
      "source": [
        "# PreProcessing Data"
      ]
    },
    {
      "cell_type": "code",
      "metadata": {
        "id": "-TUs3i5NQrN7",
        "colab_type": "code",
        "colab": {}
      },
      "source": [
        "X_train=train.iloc[:,:-2]\n",
        "y_train=train.iloc[:,-1]\n",
        "\n",
        "X_test=test.iloc[:,:-2]\n",
        "y_test=test.iloc[:,-1]"
      ],
      "execution_count": 118,
      "outputs": []
    },
    {
      "cell_type": "code",
      "metadata": {
        "id": "kQErCAINQ_ct",
        "colab_type": "code",
        "colab": {
          "base_uri": "https://localhost:8080/",
          "height": 278
        },
        "outputId": "7e77e77a-751a-4f38-a489-f5b33803e0da"
      },
      "source": [
        "X_train.head()"
      ],
      "execution_count": 119,
      "outputs": [
        {
          "output_type": "execute_result",
          "data": {
            "text/html": [
              "<div>\n",
              "<style scoped>\n",
              "    .dataframe tbody tr th:only-of-type {\n",
              "        vertical-align: middle;\n",
              "    }\n",
              "\n",
              "    .dataframe tbody tr th {\n",
              "        vertical-align: top;\n",
              "    }\n",
              "\n",
              "    .dataframe thead th {\n",
              "        text-align: right;\n",
              "    }\n",
              "</style>\n",
              "<table border=\"1\" class=\"dataframe\">\n",
              "  <thead>\n",
              "    <tr style=\"text-align: right;\">\n",
              "      <th></th>\n",
              "      <th>tBodyAcc-mean()-X</th>\n",
              "      <th>tBodyAcc-mean()-Y</th>\n",
              "      <th>tBodyAcc-mean()-Z</th>\n",
              "      <th>tBodyAcc-std()-X</th>\n",
              "      <th>tBodyAcc-std()-Y</th>\n",
              "      <th>tBodyAcc-std()-Z</th>\n",
              "      <th>tBodyAcc-mad()-X</th>\n",
              "      <th>tBodyAcc-mad()-Y</th>\n",
              "      <th>tBodyAcc-mad()-Z</th>\n",
              "      <th>tBodyAcc-max()-X</th>\n",
              "      <th>tBodyAcc-max()-Y</th>\n",
              "      <th>tBodyAcc-max()-Z</th>\n",
              "      <th>tBodyAcc-min()-X</th>\n",
              "      <th>tBodyAcc-min()-Y</th>\n",
              "      <th>tBodyAcc-min()-Z</th>\n",
              "      <th>tBodyAcc-sma()</th>\n",
              "      <th>tBodyAcc-energy()-X</th>\n",
              "      <th>tBodyAcc-energy()-Y</th>\n",
              "      <th>tBodyAcc-energy()-Z</th>\n",
              "      <th>tBodyAcc-iqr()-X</th>\n",
              "      <th>tBodyAcc-iqr()-Y</th>\n",
              "      <th>tBodyAcc-iqr()-Z</th>\n",
              "      <th>tBodyAcc-entropy()-X</th>\n",
              "      <th>tBodyAcc-entropy()-Y</th>\n",
              "      <th>tBodyAcc-entropy()-Z</th>\n",
              "      <th>tBodyAcc-arCoeff()-X,1</th>\n",
              "      <th>tBodyAcc-arCoeff()-X,2</th>\n",
              "      <th>tBodyAcc-arCoeff()-X,3</th>\n",
              "      <th>tBodyAcc-arCoeff()-X,4</th>\n",
              "      <th>tBodyAcc-arCoeff()-Y,1</th>\n",
              "      <th>tBodyAcc-arCoeff()-Y,2</th>\n",
              "      <th>tBodyAcc-arCoeff()-Y,3</th>\n",
              "      <th>tBodyAcc-arCoeff()-Y,4</th>\n",
              "      <th>tBodyAcc-arCoeff()-Z,1</th>\n",
              "      <th>tBodyAcc-arCoeff()-Z,2</th>\n",
              "      <th>tBodyAcc-arCoeff()-Z,3</th>\n",
              "      <th>tBodyAcc-arCoeff()-Z,4</th>\n",
              "      <th>tBodyAcc-correlation()-X,Y</th>\n",
              "      <th>tBodyAcc-correlation()-X,Z</th>\n",
              "      <th>tBodyAcc-correlation()-Y,Z</th>\n",
              "      <th>...</th>\n",
              "      <th>fBodyBodyAccJerkMag-energy()</th>\n",
              "      <th>fBodyBodyAccJerkMag-iqr()</th>\n",
              "      <th>fBodyBodyAccJerkMag-entropy()</th>\n",
              "      <th>fBodyBodyAccJerkMag-maxInds</th>\n",
              "      <th>fBodyBodyAccJerkMag-meanFreq()</th>\n",
              "      <th>fBodyBodyAccJerkMag-skewness()</th>\n",
              "      <th>fBodyBodyAccJerkMag-kurtosis()</th>\n",
              "      <th>fBodyBodyGyroMag-mean()</th>\n",
              "      <th>fBodyBodyGyroMag-std()</th>\n",
              "      <th>fBodyBodyGyroMag-mad()</th>\n",
              "      <th>fBodyBodyGyroMag-max()</th>\n",
              "      <th>fBodyBodyGyroMag-min()</th>\n",
              "      <th>fBodyBodyGyroMag-sma()</th>\n",
              "      <th>fBodyBodyGyroMag-energy()</th>\n",
              "      <th>fBodyBodyGyroMag-iqr()</th>\n",
              "      <th>fBodyBodyGyroMag-entropy()</th>\n",
              "      <th>fBodyBodyGyroMag-maxInds</th>\n",
              "      <th>fBodyBodyGyroMag-meanFreq()</th>\n",
              "      <th>fBodyBodyGyroMag-skewness()</th>\n",
              "      <th>fBodyBodyGyroMag-kurtosis()</th>\n",
              "      <th>fBodyBodyGyroJerkMag-mean()</th>\n",
              "      <th>fBodyBodyGyroJerkMag-std()</th>\n",
              "      <th>fBodyBodyGyroJerkMag-mad()</th>\n",
              "      <th>fBodyBodyGyroJerkMag-max()</th>\n",
              "      <th>fBodyBodyGyroJerkMag-min()</th>\n",
              "      <th>fBodyBodyGyroJerkMag-sma()</th>\n",
              "      <th>fBodyBodyGyroJerkMag-energy()</th>\n",
              "      <th>fBodyBodyGyroJerkMag-iqr()</th>\n",
              "      <th>fBodyBodyGyroJerkMag-entropy()</th>\n",
              "      <th>fBodyBodyGyroJerkMag-maxInds</th>\n",
              "      <th>fBodyBodyGyroJerkMag-meanFreq()</th>\n",
              "      <th>fBodyBodyGyroJerkMag-skewness()</th>\n",
              "      <th>fBodyBodyGyroJerkMag-kurtosis()</th>\n",
              "      <th>angle(tBodyAccMean,gravity)</th>\n",
              "      <th>angle(tBodyAccJerkMean),gravityMean)</th>\n",
              "      <th>angle(tBodyGyroMean,gravityMean)</th>\n",
              "      <th>angle(tBodyGyroJerkMean,gravityMean)</th>\n",
              "      <th>angle(X,gravityMean)</th>\n",
              "      <th>angle(Y,gravityMean)</th>\n",
              "      <th>angle(Z,gravityMean)</th>\n",
              "    </tr>\n",
              "  </thead>\n",
              "  <tbody>\n",
              "    <tr>\n",
              "      <th>0</th>\n",
              "      <td>0.288585</td>\n",
              "      <td>-0.020294</td>\n",
              "      <td>-0.132905</td>\n",
              "      <td>-0.995279</td>\n",
              "      <td>-0.983111</td>\n",
              "      <td>-0.913526</td>\n",
              "      <td>-0.995112</td>\n",
              "      <td>-0.983185</td>\n",
              "      <td>-0.923527</td>\n",
              "      <td>-0.934724</td>\n",
              "      <td>-0.567378</td>\n",
              "      <td>-0.744413</td>\n",
              "      <td>0.852947</td>\n",
              "      <td>0.685845</td>\n",
              "      <td>0.814263</td>\n",
              "      <td>-0.965523</td>\n",
              "      <td>-0.999945</td>\n",
              "      <td>-0.999863</td>\n",
              "      <td>-0.994612</td>\n",
              "      <td>-0.994231</td>\n",
              "      <td>-0.987614</td>\n",
              "      <td>-0.943220</td>\n",
              "      <td>-0.407747</td>\n",
              "      <td>-0.679338</td>\n",
              "      <td>-0.602122</td>\n",
              "      <td>0.929294</td>\n",
              "      <td>-0.853011</td>\n",
              "      <td>0.359910</td>\n",
              "      <td>-0.058526</td>\n",
              "      <td>0.256892</td>\n",
              "      <td>-0.224848</td>\n",
              "      <td>0.264106</td>\n",
              "      <td>-0.095246</td>\n",
              "      <td>0.278851</td>\n",
              "      <td>-0.465085</td>\n",
              "      <td>0.491936</td>\n",
              "      <td>-0.190884</td>\n",
              "      <td>0.376314</td>\n",
              "      <td>0.435129</td>\n",
              "      <td>0.660790</td>\n",
              "      <td>...</td>\n",
              "      <td>-0.999918</td>\n",
              "      <td>-0.991364</td>\n",
              "      <td>-1.0</td>\n",
              "      <td>-0.936508</td>\n",
              "      <td>0.346989</td>\n",
              "      <td>-0.516080</td>\n",
              "      <td>-0.802760</td>\n",
              "      <td>-0.980135</td>\n",
              "      <td>-0.961309</td>\n",
              "      <td>-0.973653</td>\n",
              "      <td>-0.952264</td>\n",
              "      <td>-0.989498</td>\n",
              "      <td>-0.980135</td>\n",
              "      <td>-0.999240</td>\n",
              "      <td>-0.992656</td>\n",
              "      <td>-0.701291</td>\n",
              "      <td>-1.000000</td>\n",
              "      <td>-0.128989</td>\n",
              "      <td>0.586156</td>\n",
              "      <td>0.374605</td>\n",
              "      <td>-0.991990</td>\n",
              "      <td>-0.990697</td>\n",
              "      <td>-0.989941</td>\n",
              "      <td>-0.992448</td>\n",
              "      <td>-0.991048</td>\n",
              "      <td>-0.991990</td>\n",
              "      <td>-0.999937</td>\n",
              "      <td>-0.990458</td>\n",
              "      <td>-0.871306</td>\n",
              "      <td>-1.000000</td>\n",
              "      <td>-0.074323</td>\n",
              "      <td>-0.298676</td>\n",
              "      <td>-0.710304</td>\n",
              "      <td>-0.112754</td>\n",
              "      <td>0.030400</td>\n",
              "      <td>-0.464761</td>\n",
              "      <td>-0.018446</td>\n",
              "      <td>-0.841247</td>\n",
              "      <td>0.179941</td>\n",
              "      <td>-0.058627</td>\n",
              "    </tr>\n",
              "    <tr>\n",
              "      <th>1</th>\n",
              "      <td>0.278419</td>\n",
              "      <td>-0.016411</td>\n",
              "      <td>-0.123520</td>\n",
              "      <td>-0.998245</td>\n",
              "      <td>-0.975300</td>\n",
              "      <td>-0.960322</td>\n",
              "      <td>-0.998807</td>\n",
              "      <td>-0.974914</td>\n",
              "      <td>-0.957686</td>\n",
              "      <td>-0.943068</td>\n",
              "      <td>-0.557851</td>\n",
              "      <td>-0.818409</td>\n",
              "      <td>0.849308</td>\n",
              "      <td>0.685845</td>\n",
              "      <td>0.822637</td>\n",
              "      <td>-0.981930</td>\n",
              "      <td>-0.999991</td>\n",
              "      <td>-0.999788</td>\n",
              "      <td>-0.998405</td>\n",
              "      <td>-0.999150</td>\n",
              "      <td>-0.977866</td>\n",
              "      <td>-0.948225</td>\n",
              "      <td>-0.714892</td>\n",
              "      <td>-0.500930</td>\n",
              "      <td>-0.570979</td>\n",
              "      <td>0.611627</td>\n",
              "      <td>-0.329549</td>\n",
              "      <td>0.284213</td>\n",
              "      <td>0.284595</td>\n",
              "      <td>0.115705</td>\n",
              "      <td>-0.090963</td>\n",
              "      <td>0.294310</td>\n",
              "      <td>-0.281211</td>\n",
              "      <td>0.085988</td>\n",
              "      <td>-0.022153</td>\n",
              "      <td>-0.016657</td>\n",
              "      <td>-0.220643</td>\n",
              "      <td>-0.013429</td>\n",
              "      <td>-0.072692</td>\n",
              "      <td>0.579382</td>\n",
              "      <td>...</td>\n",
              "      <td>-0.999867</td>\n",
              "      <td>-0.991134</td>\n",
              "      <td>-1.0</td>\n",
              "      <td>-0.841270</td>\n",
              "      <td>0.532061</td>\n",
              "      <td>-0.624871</td>\n",
              "      <td>-0.900160</td>\n",
              "      <td>-0.988296</td>\n",
              "      <td>-0.983322</td>\n",
              "      <td>-0.982659</td>\n",
              "      <td>-0.986321</td>\n",
              "      <td>-0.991829</td>\n",
              "      <td>-0.988296</td>\n",
              "      <td>-0.999811</td>\n",
              "      <td>-0.993979</td>\n",
              "      <td>-0.720683</td>\n",
              "      <td>-0.948718</td>\n",
              "      <td>-0.271958</td>\n",
              "      <td>-0.336310</td>\n",
              "      <td>-0.720015</td>\n",
              "      <td>-0.995854</td>\n",
              "      <td>-0.996399</td>\n",
              "      <td>-0.995442</td>\n",
              "      <td>-0.996866</td>\n",
              "      <td>-0.994440</td>\n",
              "      <td>-0.995854</td>\n",
              "      <td>-0.999981</td>\n",
              "      <td>-0.994544</td>\n",
              "      <td>-1.000000</td>\n",
              "      <td>-1.000000</td>\n",
              "      <td>0.158075</td>\n",
              "      <td>-0.595051</td>\n",
              "      <td>-0.861499</td>\n",
              "      <td>0.053477</td>\n",
              "      <td>-0.007435</td>\n",
              "      <td>-0.732626</td>\n",
              "      <td>0.703511</td>\n",
              "      <td>-0.844788</td>\n",
              "      <td>0.180289</td>\n",
              "      <td>-0.054317</td>\n",
              "    </tr>\n",
              "    <tr>\n",
              "      <th>2</th>\n",
              "      <td>0.279653</td>\n",
              "      <td>-0.019467</td>\n",
              "      <td>-0.113462</td>\n",
              "      <td>-0.995380</td>\n",
              "      <td>-0.967187</td>\n",
              "      <td>-0.978944</td>\n",
              "      <td>-0.996520</td>\n",
              "      <td>-0.963668</td>\n",
              "      <td>-0.977469</td>\n",
              "      <td>-0.938692</td>\n",
              "      <td>-0.557851</td>\n",
              "      <td>-0.818409</td>\n",
              "      <td>0.843609</td>\n",
              "      <td>0.682401</td>\n",
              "      <td>0.839344</td>\n",
              "      <td>-0.983478</td>\n",
              "      <td>-0.999969</td>\n",
              "      <td>-0.999660</td>\n",
              "      <td>-0.999470</td>\n",
              "      <td>-0.997130</td>\n",
              "      <td>-0.964810</td>\n",
              "      <td>-0.974675</td>\n",
              "      <td>-0.592235</td>\n",
              "      <td>-0.485821</td>\n",
              "      <td>-0.570979</td>\n",
              "      <td>0.273025</td>\n",
              "      <td>-0.086309</td>\n",
              "      <td>0.337202</td>\n",
              "      <td>-0.164739</td>\n",
              "      <td>0.017150</td>\n",
              "      <td>-0.074507</td>\n",
              "      <td>0.342256</td>\n",
              "      <td>-0.332564</td>\n",
              "      <td>0.239281</td>\n",
              "      <td>-0.136204</td>\n",
              "      <td>0.173863</td>\n",
              "      <td>-0.299493</td>\n",
              "      <td>-0.124698</td>\n",
              "      <td>-0.181105</td>\n",
              "      <td>0.608900</td>\n",
              "      <td>...</td>\n",
              "      <td>-0.999845</td>\n",
              "      <td>-0.986658</td>\n",
              "      <td>-1.0</td>\n",
              "      <td>-0.904762</td>\n",
              "      <td>0.660795</td>\n",
              "      <td>-0.724697</td>\n",
              "      <td>-0.928539</td>\n",
              "      <td>-0.989255</td>\n",
              "      <td>-0.986028</td>\n",
              "      <td>-0.984274</td>\n",
              "      <td>-0.990979</td>\n",
              "      <td>-0.995703</td>\n",
              "      <td>-0.989255</td>\n",
              "      <td>-0.999854</td>\n",
              "      <td>-0.993238</td>\n",
              "      <td>-0.736521</td>\n",
              "      <td>-0.794872</td>\n",
              "      <td>-0.212728</td>\n",
              "      <td>-0.535352</td>\n",
              "      <td>-0.871914</td>\n",
              "      <td>-0.995031</td>\n",
              "      <td>-0.995127</td>\n",
              "      <td>-0.994640</td>\n",
              "      <td>-0.996060</td>\n",
              "      <td>-0.995866</td>\n",
              "      <td>-0.995031</td>\n",
              "      <td>-0.999973</td>\n",
              "      <td>-0.993755</td>\n",
              "      <td>-1.000000</td>\n",
              "      <td>-0.555556</td>\n",
              "      <td>0.414503</td>\n",
              "      <td>-0.390748</td>\n",
              "      <td>-0.760104</td>\n",
              "      <td>-0.118559</td>\n",
              "      <td>0.177899</td>\n",
              "      <td>0.100699</td>\n",
              "      <td>0.808529</td>\n",
              "      <td>-0.848933</td>\n",
              "      <td>0.180637</td>\n",
              "      <td>-0.049118</td>\n",
              "    </tr>\n",
              "    <tr>\n",
              "      <th>3</th>\n",
              "      <td>0.279174</td>\n",
              "      <td>-0.026201</td>\n",
              "      <td>-0.123283</td>\n",
              "      <td>-0.996091</td>\n",
              "      <td>-0.983403</td>\n",
              "      <td>-0.990675</td>\n",
              "      <td>-0.997099</td>\n",
              "      <td>-0.982750</td>\n",
              "      <td>-0.989302</td>\n",
              "      <td>-0.938692</td>\n",
              "      <td>-0.576159</td>\n",
              "      <td>-0.829711</td>\n",
              "      <td>0.843609</td>\n",
              "      <td>0.682401</td>\n",
              "      <td>0.837869</td>\n",
              "      <td>-0.986093</td>\n",
              "      <td>-0.999976</td>\n",
              "      <td>-0.999736</td>\n",
              "      <td>-0.999504</td>\n",
              "      <td>-0.997180</td>\n",
              "      <td>-0.983799</td>\n",
              "      <td>-0.986007</td>\n",
              "      <td>-0.627446</td>\n",
              "      <td>-0.850930</td>\n",
              "      <td>-0.911872</td>\n",
              "      <td>0.061436</td>\n",
              "      <td>0.074840</td>\n",
              "      <td>0.198204</td>\n",
              "      <td>-0.264307</td>\n",
              "      <td>0.072545</td>\n",
              "      <td>-0.155320</td>\n",
              "      <td>0.323154</td>\n",
              "      <td>-0.170813</td>\n",
              "      <td>0.294938</td>\n",
              "      <td>-0.306081</td>\n",
              "      <td>0.482148</td>\n",
              "      <td>-0.470129</td>\n",
              "      <td>-0.305693</td>\n",
              "      <td>-0.362654</td>\n",
              "      <td>0.507459</td>\n",
              "      <td>...</td>\n",
              "      <td>-0.999895</td>\n",
              "      <td>-0.988055</td>\n",
              "      <td>-1.0</td>\n",
              "      <td>1.000000</td>\n",
              "      <td>0.678921</td>\n",
              "      <td>-0.701131</td>\n",
              "      <td>-0.909639</td>\n",
              "      <td>-0.989413</td>\n",
              "      <td>-0.987836</td>\n",
              "      <td>-0.986850</td>\n",
              "      <td>-0.986749</td>\n",
              "      <td>-0.996199</td>\n",
              "      <td>-0.989413</td>\n",
              "      <td>-0.999876</td>\n",
              "      <td>-0.989136</td>\n",
              "      <td>-0.720891</td>\n",
              "      <td>-1.000000</td>\n",
              "      <td>-0.035684</td>\n",
              "      <td>-0.230091</td>\n",
              "      <td>-0.511217</td>\n",
              "      <td>-0.995221</td>\n",
              "      <td>-0.995237</td>\n",
              "      <td>-0.995722</td>\n",
              "      <td>-0.995273</td>\n",
              "      <td>-0.995732</td>\n",
              "      <td>-0.995221</td>\n",
              "      <td>-0.999974</td>\n",
              "      <td>-0.995226</td>\n",
              "      <td>-0.955696</td>\n",
              "      <td>-0.936508</td>\n",
              "      <td>0.404573</td>\n",
              "      <td>-0.117290</td>\n",
              "      <td>-0.482845</td>\n",
              "      <td>-0.036788</td>\n",
              "      <td>-0.012892</td>\n",
              "      <td>0.640011</td>\n",
              "      <td>-0.485366</td>\n",
              "      <td>-0.848649</td>\n",
              "      <td>0.181935</td>\n",
              "      <td>-0.047663</td>\n",
              "    </tr>\n",
              "    <tr>\n",
              "      <th>4</th>\n",
              "      <td>0.276629</td>\n",
              "      <td>-0.016570</td>\n",
              "      <td>-0.115362</td>\n",
              "      <td>-0.998139</td>\n",
              "      <td>-0.980817</td>\n",
              "      <td>-0.990482</td>\n",
              "      <td>-0.998321</td>\n",
              "      <td>-0.979672</td>\n",
              "      <td>-0.990441</td>\n",
              "      <td>-0.942469</td>\n",
              "      <td>-0.569174</td>\n",
              "      <td>-0.824705</td>\n",
              "      <td>0.849095</td>\n",
              "      <td>0.683250</td>\n",
              "      <td>0.837869</td>\n",
              "      <td>-0.992653</td>\n",
              "      <td>-0.999991</td>\n",
              "      <td>-0.999856</td>\n",
              "      <td>-0.999757</td>\n",
              "      <td>-0.998004</td>\n",
              "      <td>-0.981232</td>\n",
              "      <td>-0.991325</td>\n",
              "      <td>-0.786553</td>\n",
              "      <td>-0.559477</td>\n",
              "      <td>-0.761434</td>\n",
              "      <td>0.313276</td>\n",
              "      <td>-0.131208</td>\n",
              "      <td>0.191161</td>\n",
              "      <td>0.086904</td>\n",
              "      <td>0.257615</td>\n",
              "      <td>-0.272505</td>\n",
              "      <td>0.434728</td>\n",
              "      <td>-0.315375</td>\n",
              "      <td>0.439744</td>\n",
              "      <td>-0.269069</td>\n",
              "      <td>0.179414</td>\n",
              "      <td>-0.088952</td>\n",
              "      <td>-0.155804</td>\n",
              "      <td>-0.189763</td>\n",
              "      <td>0.599213</td>\n",
              "      <td>...</td>\n",
              "      <td>-0.999941</td>\n",
              "      <td>-0.994169</td>\n",
              "      <td>-1.0</td>\n",
              "      <td>-1.000000</td>\n",
              "      <td>0.559058</td>\n",
              "      <td>-0.528901</td>\n",
              "      <td>-0.858933</td>\n",
              "      <td>-0.991433</td>\n",
              "      <td>-0.989059</td>\n",
              "      <td>-0.987744</td>\n",
              "      <td>-0.991462</td>\n",
              "      <td>-0.998353</td>\n",
              "      <td>-0.991433</td>\n",
              "      <td>-0.999902</td>\n",
              "      <td>-0.989321</td>\n",
              "      <td>-0.763372</td>\n",
              "      <td>-0.897436</td>\n",
              "      <td>-0.273582</td>\n",
              "      <td>-0.510282</td>\n",
              "      <td>-0.830702</td>\n",
              "      <td>-0.995093</td>\n",
              "      <td>-0.995465</td>\n",
              "      <td>-0.995279</td>\n",
              "      <td>-0.995609</td>\n",
              "      <td>-0.997418</td>\n",
              "      <td>-0.995093</td>\n",
              "      <td>-0.999974</td>\n",
              "      <td>-0.995487</td>\n",
              "      <td>-1.000000</td>\n",
              "      <td>-0.936508</td>\n",
              "      <td>0.087753</td>\n",
              "      <td>-0.351471</td>\n",
              "      <td>-0.699205</td>\n",
              "      <td>0.123320</td>\n",
              "      <td>0.122542</td>\n",
              "      <td>0.693578</td>\n",
              "      <td>-0.615971</td>\n",
              "      <td>-0.847865</td>\n",
              "      <td>0.185151</td>\n",
              "      <td>-0.043892</td>\n",
              "    </tr>\n",
              "  </tbody>\n",
              "</table>\n",
              "<p>5 rows × 561 columns</p>\n",
              "</div>"
            ],
            "text/plain": [
              "   tBodyAcc-mean()-X  ...  angle(Z,gravityMean)\n",
              "0           0.288585  ...             -0.058627\n",
              "1           0.278419  ...             -0.054317\n",
              "2           0.279653  ...             -0.049118\n",
              "3           0.279174  ...             -0.047663\n",
              "4           0.276629  ...             -0.043892\n",
              "\n",
              "[5 rows x 561 columns]"
            ]
          },
          "metadata": {
            "tags": []
          },
          "execution_count": 119
        }
      ]
    },
    {
      "cell_type": "code",
      "metadata": {
        "id": "5RnIisSzRGQG",
        "colab_type": "code",
        "colab": {
          "base_uri": "https://localhost:8080/",
          "height": 118
        },
        "outputId": "fade14c5-adcd-475a-c1ad-4928366af84d"
      },
      "source": [
        "y_train.head()"
      ],
      "execution_count": 120,
      "outputs": [
        {
          "output_type": "execute_result",
          "data": {
            "text/plain": [
              "0    STANDING\n",
              "1    STANDING\n",
              "2    STANDING\n",
              "3    STANDING\n",
              "4    STANDING\n",
              "Name: Activity, dtype: object"
            ]
          },
          "metadata": {
            "tags": []
          },
          "execution_count": 120
        }
      ]
    },
    {
      "cell_type": "code",
      "metadata": {
        "id": "tW1VqsYvl-vL",
        "colab_type": "code",
        "colab": {
          "base_uri": "https://localhost:8080/",
          "height": 297
        },
        "outputId": "8ea089c1-113c-440a-b81b-692399a8a5db"
      },
      "source": [
        "plt.figure(figsize=(12,4))\n",
        "sns.countplot(y_train)"
      ],
      "execution_count": 121,
      "outputs": [
        {
          "output_type": "execute_result",
          "data": {
            "text/plain": [
              "<matplotlib.axes._subplots.AxesSubplot at 0x7f629054ec88>"
            ]
          },
          "metadata": {
            "tags": []
          },
          "execution_count": 121
        },
        {
          "output_type": "display_data",
          "data": {
            "image/png": "[encoded data removed]",
            "text/plain": [
              "<Figure size 864x288 with 1 Axes>"
            ]
          },
          "metadata": {
            "tags": [],
            "needs_background": "light"
          }
        }
      ]
    },
    {
      "cell_type": "code",
      "metadata": {
        "id": "5hCOvIzzUvzC",
        "colab_type": "code",
        "colab": {}
      },
      "source": [
        "y_test = y_test.map({'LAYING': 0, 'STANDING': 1,'WALKING':2, 'SITTING':3,'WALKING_UPSTAIRS':4,'WALKING_DOWNSTAIRS':5})\n",
        "y_train =y_train.map({'LAYING': 0, 'STANDING': 1,'WALKING':2, 'SITTING':3,'WALKING_UPSTAIRS':4,'WALKING_DOWNSTAIRS':5})"
      ],
      "execution_count": 122,
      "outputs": []
    },
    {
      "cell_type": "code",
      "metadata": {
        "id": "bRq3OtEnRUwH",
        "colab_type": "code",
        "colab": {}
      },
      "source": [
        "acc=0\n",
        "gyro=0\n",
        "others=0\n",
        "for column in train.columns:\n",
        "    if \"Acc\" in str(column):\n",
        "        acc+=1\n",
        "    elif \"Gyro\" in str(column):\n",
        "        gyro+=1\n",
        "    else:\n",
        "        others+=1"
      ],
      "execution_count": 123,
      "outputs": []
    },
    {
      "cell_type": "code",
      "metadata": {
        "id": "gVkTXdeuRm6G",
        "colab_type": "code",
        "colab": {
          "base_uri": "https://localhost:8080/",
          "height": 483
        },
        "outputId": "c20502da-a682-4163-aabc-bc1f52c71b24"
      },
      "source": [
        "plt.figure(figsize=(12,8))\n",
        "plt.bar(['Accelerometer','Gyrometer','Others'],[acc,gyro,others],color=['r','g','b']);"
      ],
      "execution_count": 124,
      "outputs": [
        {
          "output_type": "display_data",
          "data": {
            "image/png": "[encoded data removed]",
            "text/plain": [
              "<Figure size 864x576 with 1 Axes>"
            ]
          },
          "metadata": {
            "tags": [],
            "needs_background": "light"
          }
        }
      ]
    },
    {
      "cell_type": "markdown",
      "metadata": {
        "id": "yG2yQAUtmat1",
        "colab_type": "text"
      },
      "source": [
        "# Normalized the Data"
      ]
    },
    {
      "cell_type": "code",
      "metadata": {
        "id": "5NqeH2nZRofL",
        "colab_type": "code",
        "colab": {}
      },
      "source": [
        "from sklearn.preprocessing import MinMaxScaler"
      ],
      "execution_count": 125,
      "outputs": []
    },
    {
      "cell_type": "code",
      "metadata": {
        "id": "fMvpvImrSSkr",
        "colab_type": "code",
        "colab": {}
      },
      "source": [
        "scaler = MinMaxScaler()"
      ],
      "execution_count": 126,
      "outputs": []
    },
    {
      "cell_type": "code",
      "metadata": {
        "id": "iP_auuDdSUt-",
        "colab_type": "code",
        "colab": {}
      },
      "source": [
        "X_train = scaler.fit_transform(X_train)\n",
        "X_test = scaler.transform(X_test)"
      ],
      "execution_count": 127,
      "outputs": []
    },
    {
      "cell_type": "markdown",
      "metadata": {
        "id": "TJArCP-TmhgG",
        "colab_type": "text"
      },
      "source": [
        "# One hot encoding the label data"
      ]
    },
    {
      "cell_type": "code",
      "metadata": {
        "id": "f8ckhgpYSZDP",
        "colab_type": "code",
        "colab": {}
      },
      "source": [
        "from tensorflow.keras.utils import to_categorical"
      ],
      "execution_count": 128,
      "outputs": []
    },
    {
      "cell_type": "code",
      "metadata": {
        "id": "azJyKTSOVmVO",
        "colab_type": "code",
        "colab": {
          "base_uri": "https://localhost:8080/",
          "height": 134
        },
        "outputId": "4cc600d4-3c8a-4435-ba18-0649160fbefe"
      },
      "source": [
        "y_train.value_counts()"
      ],
      "execution_count": 129,
      "outputs": [
        {
          "output_type": "execute_result",
          "data": {
            "text/plain": [
              "0    1407\n",
              "1    1374\n",
              "3    1286\n",
              "2    1226\n",
              "4    1073\n",
              "5     986\n",
              "Name: Activity, dtype: int64"
            ]
          },
          "metadata": {
            "tags": []
          },
          "execution_count": 129
        }
      ]
    },
    {
      "cell_type": "code",
      "metadata": {
        "id": "Ilxh3BkeTZFu",
        "colab_type": "code",
        "colab": {}
      },
      "source": [
        "y_train = to_categorical(y_train,6)\n",
        "y_test = to_categorical(y_test,6)"
      ],
      "execution_count": 130,
      "outputs": []
    },
    {
      "cell_type": "code",
      "metadata": {
        "id": "vxqiJR7ZTpCA",
        "colab_type": "code",
        "colab": {
          "base_uri": "https://localhost:8080/",
          "height": 34
        },
        "outputId": "5075035f-6a20-4fc3-b976-7687e18a2f40"
      },
      "source": [
        "y_train[0]"
      ],
      "execution_count": 131,
      "outputs": [
        {
          "output_type": "execute_result",
          "data": {
            "text/plain": [
              "array([0., 1., 0., 0., 0., 0.], dtype=float32)"
            ]
          },
          "metadata": {
            "tags": []
          },
          "execution_count": 131
        }
      ]
    },
    {
      "cell_type": "markdown",
      "metadata": {
        "id": "p0WvSeShmp3_",
        "colab_type": "text"
      },
      "source": [
        "# Principal Component Analysis on the test and train data"
      ]
    },
    {
      "cell_type": "code",
      "metadata": {
        "id": "R6_uOZmZWD0B",
        "colab_type": "code",
        "colab": {}
      },
      "source": [
        "from sklearn.decomposition import PCA\n",
        "pca=PCA(n_components=None)\n",
        "X_train=pca.fit_transform(X_train)\n",
        "X_test=pca.transform(X_test)\n",
        "explained_variance=pca.explained_variance_ratio_"
      ],
      "execution_count": 132,
      "outputs": []
    },
    {
      "cell_type": "code",
      "metadata": {
        "id": "mm9gjRUOXIX8",
        "colab_type": "code",
        "colab": {
          "base_uri": "https://localhost:8080/",
          "height": 1000
        },
        "outputId": "a5aa17fd-be36-466e-90ad-038dd7f0e83a"
      },
      "source": [
        "explained_variance"
      ],
      "execution_count": 133,
      "outputs": [
        {
          "output_type": "execute_result",
          "data": {
            "text/plain": [
              "array([6.19872703e-01, 5.09576739e-02, 4.29218518e-02, 1.87213474e-02,\n",
              "       1.67113213e-02, 1.25405496e-02, 1.17685723e-02, 1.07841853e-02,\n",
              "       9.80038142e-03, 8.54327393e-03, 7.69026274e-03, 6.76506334e-03,\n",
              "       6.03644661e-03, 5.76011595e-03, 5.02936898e-03, 4.86013896e-03,\n",
              "       4.67795038e-03, 4.37626279e-03, 4.19799243e-03, 4.12637640e-03,\n",
              "       3.89525576e-03, 3.78917097e-03, 3.56329931e-03, 3.44657941e-03,\n",
              "       3.41828314e-03, 3.15628244e-03, 3.08645352e-03, 3.05085245e-03,\n",
              "       2.91152977e-03, 2.83344634e-03, 2.78850392e-03, 2.64931925e-03,\n",
              "       2.57828749e-03, 2.40346913e-03, 2.39179695e-03, 2.32614230e-03,\n",
              "       2.24245277e-03, 2.10982401e-03, 2.09410447e-03, 2.05318581e-03,\n",
              "       1.99180803e-03, 1.92881736e-03, 1.82709053e-03, 1.80809624e-03,\n",
              "       1.76108762e-03, 1.70963507e-03, 1.63060345e-03, 1.59931052e-03,\n",
              "       1.56736930e-03, 1.52085868e-03, 1.45408282e-03, 1.41574155e-03,\n",
              "       1.37931164e-03, 1.33435973e-03, 1.27960830e-03, 1.23157982e-03,\n",
              "       1.20446976e-03, 1.17666900e-03, 1.13857576e-03, 1.11782842e-03,\n",
              "       1.09409959e-03, 1.07281484e-03, 1.05070027e-03, 1.03302441e-03,\n",
              "       1.01056249e-03, 9.68561916e-04, 9.60049097e-04, 9.40487508e-04,\n",
              "       8.98313932e-04, 8.75666081e-04, 8.55666418e-04, 8.45238873e-04,\n",
              "       8.25952565e-04, 8.20966342e-04, 7.90483960e-04, 7.84346666e-04,\n",
              "       7.74435328e-04, 7.68428562e-04, 7.43099184e-04, 7.29493272e-04,\n",
              "       7.15339570e-04, 6.93731913e-04, 6.76843599e-04, 6.75355304e-04,\n",
              "       6.61670499e-04, 6.54963848e-04, 6.35899200e-04, 6.33043525e-04,\n",
              "       6.19231637e-04, 6.13833633e-04, 6.00910750e-04, 5.90306705e-04,\n",
              "       5.83113774e-04, 5.58889806e-04, 5.55638653e-04, 5.48293856e-04,\n",
              "       5.33347452e-04, 5.28219345e-04, 5.18392955e-04, 5.13126866e-04,\n",
              "       5.06606915e-04, 4.90415246e-04, 4.82790771e-04, 4.74093744e-04,\n",
              "       4.72364890e-04, 4.65928230e-04, 4.56988012e-04, 4.51336154e-04,\n",
              "       4.37361737e-04, 4.28296472e-04, 4.25701773e-04, 4.21475961e-04,\n",
              "       3.92326495e-04, 3.87370292e-04, 3.79270216e-04, 3.74888700e-04,\n",
              "       3.68874543e-04, 3.62002554e-04, 3.53585997e-04, 3.45212695e-04,\n",
              "       3.39538908e-04, 3.33512222e-04, 3.25946768e-04, 3.17450962e-04,\n",
              "       3.15647983e-04, 3.10277503e-04, 3.04647896e-04, 2.94911108e-04,\n",
              "       2.89471746e-04, 2.80288569e-04, 2.76885848e-04, 2.70265143e-04,\n",
              "       2.66221961e-04, 2.57930454e-04, 2.53462568e-04, 2.50877856e-04,\n",
              "       2.43830445e-04, 2.41364587e-04, 2.39881220e-04, 2.37784946e-04,\n",
              "       2.31412629e-04, 2.23579945e-04, 2.18400776e-04, 2.17190886e-04,\n",
              "       2.12385513e-04, 2.10296077e-04, 2.07286348e-04, 2.03711579e-04,\n",
              "       2.00558485e-04, 1.98160205e-04, 1.86515815e-04, 1.82117224e-04,\n",
              "       1.78725331e-04, 1.77043772e-04, 1.71933344e-04, 1.64074451e-04,\n",
              "       1.62650511e-04, 1.60808036e-04, 1.59015968e-04, 1.54285256e-04,\n",
              "       1.52414862e-04, 1.49738612e-04, 1.46827187e-04, 1.46297523e-04,\n",
              "       1.43428471e-04, 1.40310200e-04, 1.34749626e-04, 1.33187201e-04,\n",
              "       1.31495442e-04, 1.28114072e-04, 1.27015818e-04, 1.25533429e-04,\n",
              "       1.23807464e-04, 1.20729314e-04, 1.17578164e-04, 1.16573272e-04,\n",
              "       1.14926723e-04, 1.13450624e-04, 1.12239164e-04, 1.11327070e-04,\n",
              "       1.07939028e-04, 1.07280007e-04, 1.05634203e-04, 1.04218293e-04,\n",
              "       1.02235177e-04, 9.96372389e-05, 9.85432905e-05, 9.49907252e-05,\n",
              "       9.43574495e-05, 9.38828010e-05, 9.02901998e-05, 9.02495232e-05,\n",
              "       8.88231503e-05, 8.76947765e-05, 8.63714048e-05, 8.39421184e-05,\n",
              "       8.15980026e-05, 8.04225884e-05, 7.99661843e-05, 7.93211864e-05,\n",
              "       7.70880009e-05, 7.61040770e-05, 7.55434729e-05, 7.54035099e-05,\n",
              "       7.37915041e-05, 7.30403188e-05, 7.22204232e-05, 7.04679980e-05,\n",
              "       6.89451200e-05, 6.78282477e-05, 6.76063304e-05, 6.51418883e-05,\n",
              "       6.50329648e-05, 6.47879702e-05, 6.28913258e-05, 6.21221877e-05,\n",
              "       6.05628941e-05, 5.90945995e-05, 5.88252257e-05, 5.66807173e-05,\n",
              "       5.62082299e-05, 5.55268411e-05, 5.41428322e-05, 5.40062093e-05,\n",
              "       5.33862271e-05, 5.23223062e-05, 5.10546072e-05, 5.07654065e-05,\n",
              "       4.95574666e-05, 4.93182379e-05, 4.88874278e-05, 4.77115490e-05,\n",
              "       4.72170922e-05, 4.65872578e-05, 4.55497737e-05, 4.50454846e-05,\n",
              "       4.43166861e-05, 4.37857604e-05, 4.30949115e-05, 4.24654193e-05,\n",
              "       4.18395692e-05, 4.15825492e-05, 4.10027589e-05, 4.01986510e-05,\n",
              "       3.88590010e-05, 3.83993653e-05, 3.80681946e-05, 3.66955990e-05,\n",
              "       3.66104901e-05, 3.57943577e-05, 3.47400951e-05, 3.43334108e-05,\n",
              "       3.35794605e-05, 3.34421879e-05, 3.33395797e-05, 3.25233388e-05,\n",
              "       3.22421885e-05, 3.16280422e-05, 3.14156871e-05, 3.13976795e-05,\n",
              "       3.01689958e-05, 2.97819936e-05, 2.96714918e-05, 2.88161271e-05,\n",
              "       2.80297422e-05, 2.78022246e-05, 2.72361938e-05, 2.68956315e-05,\n",
              "       2.67081076e-05, 2.62243919e-05, 2.58226980e-05, 2.51253657e-05,\n",
              "       2.46872143e-05, 2.41699541e-05, 2.37264114e-05, 2.35143065e-05,\n",
              "       2.32413374e-05, 2.29807929e-05, 2.28024490e-05, 2.18967183e-05,\n",
              "       2.15978179e-05, 2.10121956e-05, 2.08907252e-05, 2.05004803e-05,\n",
              "       2.02443752e-05, 1.98929272e-05, 1.96447792e-05, 1.91055370e-05,\n",
              "       1.88665543e-05, 1.83892176e-05, 1.82570365e-05, 1.79862640e-05,\n",
              "       1.76616077e-05, 1.74059078e-05, 1.71832908e-05, 1.68613080e-05,\n",
              "       1.67896993e-05, 1.66409317e-05, 1.63694392e-05, 1.62189000e-05,\n",
              "       1.58553262e-05, 1.56631617e-05, 1.55724327e-05, 1.52465101e-05,\n",
              "       1.49936731e-05, 1.49126804e-05, 1.46493172e-05, 1.45174732e-05,\n",
              "       1.43000400e-05, 1.39774041e-05, 1.37199604e-05, 1.34583056e-05,\n",
              "       1.33104350e-05, 1.31238326e-05, 1.29528657e-05, 1.26090056e-05,\n",
              "       1.24420022e-05, 1.21700020e-05, 1.17710605e-05, 1.15335857e-05,\n",
              "       1.10301918e-05, 1.07602191e-05, 1.05533966e-05, 1.04239853e-05,\n",
              "       1.02167944e-05, 1.00615337e-05, 9.89957964e-06, 9.77631061e-06,\n",
              "       9.74703638e-06, 9.48748126e-06, 9.24230358e-06, 9.12707966e-06,\n",
              "       8.94977848e-06, 8.78772157e-06, 8.56345898e-06, 8.43998471e-06,\n",
              "       8.32578856e-06, 8.10285328e-06, 7.58110121e-06, 7.32821569e-06,\n",
              "       7.14305748e-06, 7.07763198e-06, 6.97718585e-06, 6.94272000e-06,\n",
              "       6.82606139e-06, 6.31684655e-06, 6.18697255e-06, 5.95769994e-06,\n",
              "       5.89738669e-06, 5.78725423e-06, 5.64843784e-06, 5.26140727e-06,\n",
              "       5.20614943e-06, 4.94305976e-06, 4.88658455e-06, 4.76846692e-06,\n",
              "       4.47927388e-06, 4.36442019e-06, 4.32888770e-06, 4.21286621e-06,\n",
              "       3.99287685e-06, 3.97969780e-06, 3.91436247e-06, 3.69673785e-06,\n",
              "       3.65966822e-06, 3.48103324e-06, 3.41834834e-06, 3.24393078e-06,\n",
              "       3.13501419e-06, 3.08347934e-06, 3.05864231e-06, 2.94859091e-06,\n",
              "       2.91628253e-06, 2.82844061e-06, 2.74980269e-06, 2.69517841e-06,\n",
              "       2.65433993e-06, 2.63478431e-06, 2.57505551e-06, 2.49776716e-06,\n",
              "       2.45105240e-06, 2.36843116e-06, 2.31255708e-06, 2.21104965e-06,\n",
              "       2.13611844e-06, 2.06865440e-06, 1.98548992e-06, 1.92175361e-06,\n",
              "       1.83508834e-06, 1.73014345e-06, 1.68252126e-06, 1.61261106e-06,\n",
              "       1.57902443e-06, 1.55502090e-06, 1.50798276e-06, 1.45015797e-06,\n",
              "       1.44382506e-06, 1.40504822e-06, 1.36763502e-06, 1.29177262e-06,\n",
              "       1.24693298e-06, 1.22588761e-06, 1.18721782e-06, 1.16932346e-06,\n",
              "       1.11553580e-06, 1.08946982e-06, 1.06367262e-06, 1.01777518e-06,\n",
              "       9.88319690e-07, 9.66654994e-07, 9.37983332e-07, 9.04426444e-07,\n",
              "       8.62371743e-07, 8.37266138e-07, 8.11307246e-07, 7.85819337e-07,\n",
              "       7.56329254e-07, 7.28480131e-07, 7.07356276e-07, 6.67382671e-07,\n",
              "       6.48196963e-07, 6.24440273e-07, 6.12424600e-07, 5.88923397e-07,\n",
              "       5.61745644e-07, 5.45025007e-07, 5.20985713e-07, 4.83850519e-07,\n",
              "       4.65016915e-07, 4.54688347e-07, 4.22249879e-07, 3.72470070e-07,\n",
              "       3.56169781e-07, 3.37716493e-07, 2.80113445e-07, 2.10982250e-07,\n",
              "       2.10133643e-07, 1.81027222e-07, 1.58780342e-07, 1.11759453e-07,\n",
              "       1.09087324e-07, 8.74635763e-08, 8.24503913e-08, 7.33840139e-08,\n",
              "       6.14895020e-08, 5.14590677e-08, 3.57325432e-08, 3.33009016e-08,\n",
              "       3.12388831e-08, 2.77018601e-08, 2.16060083e-08, 1.94612092e-08,\n",
              "       1.73377654e-08, 1.55441398e-08, 1.42443652e-08, 1.23599705e-08,\n",
              "       1.00382521e-08, 9.91655018e-09, 9.17001814e-09, 8.72557269e-09,\n",
              "       7.20596767e-09, 6.93149420e-09, 6.86403048e-09, 3.12817754e-09,\n",
              "       1.22964215e-10, 9.38638950e-11, 1.90438327e-11, 3.74009512e-12,\n",
              "       9.46551634e-13, 1.17562683e-13, 1.92108552e-19, 1.83339796e-19,\n",
              "       1.72293026e-19, 1.67765276e-19, 1.66732266e-19, 1.64382235e-19,\n",
              "       1.61086912e-19, 1.60125504e-19, 1.57665026e-19, 1.56404195e-19,\n",
              "       1.55540880e-19, 1.53789583e-19, 1.53500829e-19, 1.51668718e-19,\n",
              "       1.51265667e-19, 1.50171521e-19, 1.49808431e-19, 1.49162275e-19,\n",
              "       1.48557846e-19, 1.47647829e-19, 1.46424456e-19, 1.45240823e-19,\n",
              "       1.44976635e-19, 1.43766436e-19, 1.43532263e-19, 1.42831782e-19,\n",
              "       1.41837046e-19, 1.41763923e-19, 1.41526402e-19, 1.40964786e-19,\n",
              "       1.40169992e-19, 1.39737089e-19, 1.39272948e-19, 1.38861562e-19,\n",
              "       1.37455478e-19, 1.36547228e-19, 1.36152205e-19, 1.34416120e-19,\n",
              "       1.34234453e-19, 1.33732218e-19, 1.32490671e-19, 1.31949753e-19,\n",
              "       1.31526857e-19, 1.30808263e-19, 1.30111734e-19, 1.29687841e-19,\n",
              "       1.29152714e-19, 1.27942780e-19, 1.27655500e-19, 1.26882941e-19,\n",
              "       1.26257629e-19, 1.25228430e-19, 1.24549478e-19, 1.24224233e-19,\n",
              "       1.23876864e-19, 1.23146670e-19, 1.22172641e-19, 1.21094042e-19,\n",
              "       1.20783538e-19, 1.19927306e-19, 1.19021271e-19, 1.18301022e-19,\n",
              "       1.17194592e-19, 1.16923218e-19, 1.15544668e-19, 1.15316555e-19,\n",
              "       1.15001084e-19, 1.13771920e-19, 1.12267852e-19, 1.10221614e-19,\n",
              "       3.38891498e-33, 3.38411052e-33, 3.38411052e-33, 3.38411052e-33,\n",
              "       3.38411052e-33, 3.38411052e-33, 3.38411052e-33, 3.38411052e-33,\n",
              "       3.38411052e-33, 3.38411052e-33, 3.38411052e-33, 3.38411052e-33,\n",
              "       3.38411052e-33, 3.38411052e-33, 3.38411052e-33, 3.38411052e-33,\n",
              "       1.18230559e-34, 4.74675558e-35, 4.54064336e-35, 8.78663612e-36,\n",
              "       1.79564901e-36])"
            ]
          },
          "metadata": {
            "tags": []
          },
          "execution_count": 133
        }
      ]
    },
    {
      "cell_type": "markdown",
      "metadata": {
        "id": "GSHrBL2AnLqF",
        "colab_type": "text"
      },
      "source": [
        "# Training the Model"
      ]
    },
    {
      "cell_type": "code",
      "metadata": {
        "id": "glHaTOOIXNa5",
        "colab_type": "code",
        "colab": {}
      },
      "source": [
        "from tensorflow.keras.models import Sequential"
      ],
      "execution_count": 134,
      "outputs": []
    },
    {
      "cell_type": "code",
      "metadata": {
        "id": "FDr8PdIWXgJL",
        "colab_type": "code",
        "colab": {}
      },
      "source": [
        "from tensorflow.keras.layers import Dense"
      ],
      "execution_count": 135,
      "outputs": []
    },
    {
      "cell_type": "code",
      "metadata": {
        "id": "nnpxQ_5iYAva",
        "colab_type": "code",
        "colab": {}
      },
      "source": [
        "model=Sequential()\n",
        "model.add(Dense(units=64,kernel_initializer='uniform',activation='relu',input_dim=X_train.shape[1]))\n",
        "\n",
        "model.add(Dense(units=128,kernel_initializer='uniform',activation='relu'))\n",
        "\n",
        "model.add(Dense(units=64,kernel_initializer='uniform',activation='relu'))\n",
        "\n",
        "model.add(Dense(units=6,kernel_initializer='uniform',activation='softmax'))"
      ],
      "execution_count": 136,
      "outputs": []
    },
    {
      "cell_type": "code",
      "metadata": {
        "id": "uC17EbgbYQD3",
        "colab_type": "code",
        "colab": {}
      },
      "source": [
        "model.compile(optimizer='adam',loss='categorical_crossentropy',metrics=['accuracy'])\n"
      ],
      "execution_count": 137,
      "outputs": []
    },
    {
      "cell_type": "code",
      "metadata": {
        "id": "6gsW51ZmYTwf",
        "colab_type": "code",
        "colab": {
          "base_uri": "https://localhost:8080/",
          "height": 286
        },
        "outputId": "c3360892-37fb-4a08-9c6b-b4f3b6d84c42"
      },
      "source": [
        "model.summary()"
      ],
      "execution_count": 138,
      "outputs": [
        {
          "output_type": "stream",
          "text": [
            "Model: \"sequential_2\"\n",
            "_________________________________________________________________\n",
            "Layer (type)                 Output Shape              Param #   \n",
            "=================================================================\n",
            "dense_8 (Dense)              (None, 64)                35968     \n",
            "_________________________________________________________________\n",
            "dense_9 (Dense)              (None, 128)               8320      \n",
            "_________________________________________________________________\n",
            "dense_10 (Dense)             (None, 64)                8256      \n",
            "_________________________________________________________________\n",
            "dense_11 (Dense)             (None, 6)                 390       \n",
            "=================================================================\n",
            "Total params: 52,934\n",
            "Trainable params: 52,934\n",
            "Non-trainable params: 0\n",
            "_________________________________________________________________\n"
          ],
          "name": "stdout"
        }
      ]
    },
    {
      "cell_type": "markdown",
      "metadata": {
        "id": "o1Rm4jaFnTfK",
        "colab_type": "text"
      },
      "source": [
        "# Train the Model"
      ]
    },
    {
      "cell_type": "code",
      "metadata": {
        "id": "k2vIKD8qYacL",
        "colab_type": "code",
        "colab": {
          "base_uri": "https://localhost:8080/",
          "height": 756
        },
        "outputId": "e8ecdd84-de55-4b29-c204-096859608d93"
      },
      "source": [
        "history=model.fit(X_train,y_train,batch_size=256,epochs=22,validation_data=(X_test,y_test))"
      ],
      "execution_count": 139,
      "outputs": [
        {
          "output_type": "stream",
          "text": [
            "Epoch 1/22\n",
            "29/29 [==============================] - 0s 8ms/step - loss: 1.7170 - accuracy: 0.3520 - val_loss: 1.4633 - val_accuracy: 0.3505\n",
            "Epoch 2/22\n",
            "29/29 [==============================] - 0s 5ms/step - loss: 1.1345 - accuracy: 0.3912 - val_loss: 0.9529 - val_accuracy: 0.5368\n",
            "Epoch 3/22\n",
            "29/29 [==============================] - 0s 5ms/step - loss: 0.7806 - accuracy: 0.5590 - val_loss: 0.6706 - val_accuracy: 0.7065\n",
            "Epoch 4/22\n",
            "29/29 [==============================] - 0s 5ms/step - loss: 0.4959 - accuracy: 0.7909 - val_loss: 0.3465 - val_accuracy: 0.8168\n",
            "Epoch 5/22\n",
            "29/29 [==============================] - 0s 5ms/step - loss: 0.2059 - accuracy: 0.9314 - val_loss: 0.1702 - val_accuracy: 0.9467\n",
            "Epoch 6/22\n",
            "29/29 [==============================] - 0s 5ms/step - loss: 0.0660 - accuracy: 0.9816 - val_loss: 0.1294 - val_accuracy: 0.9552\n",
            "Epoch 7/22\n",
            "29/29 [==============================] - 0s 5ms/step - loss: 0.0364 - accuracy: 0.9899 - val_loss: 0.1214 - val_accuracy: 0.9559\n",
            "Epoch 8/22\n",
            "29/29 [==============================] - 0s 5ms/step - loss: 0.0273 - accuracy: 0.9920 - val_loss: 0.1155 - val_accuracy: 0.9576\n",
            "Epoch 9/22\n",
            "29/29 [==============================] - 0s 5ms/step - loss: 0.0217 - accuracy: 0.9942 - val_loss: 0.1118 - val_accuracy: 0.9593\n",
            "Epoch 10/22\n",
            "29/29 [==============================] - 0s 5ms/step - loss: 0.0181 - accuracy: 0.9955 - val_loss: 0.1125 - val_accuracy: 0.9600\n",
            "Epoch 11/22\n",
            "29/29 [==============================] - 0s 5ms/step - loss: 0.0166 - accuracy: 0.9946 - val_loss: 0.1224 - val_accuracy: 0.9583\n",
            "Epoch 12/22\n",
            "29/29 [==============================] - 0s 5ms/step - loss: 0.0136 - accuracy: 0.9965 - val_loss: 0.1161 - val_accuracy: 0.9630\n",
            "Epoch 13/22\n",
            "29/29 [==============================] - 0s 5ms/step - loss: 0.0128 - accuracy: 0.9959 - val_loss: 0.1174 - val_accuracy: 0.9610\n",
            "Epoch 14/22\n",
            "29/29 [==============================] - 0s 5ms/step - loss: 0.0098 - accuracy: 0.9971 - val_loss: 0.1257 - val_accuracy: 0.9613\n",
            "Epoch 15/22\n",
            "29/29 [==============================] - 0s 5ms/step - loss: 0.0088 - accuracy: 0.9976 - val_loss: 0.1241 - val_accuracy: 0.9640\n",
            "Epoch 16/22\n",
            "29/29 [==============================] - 0s 5ms/step - loss: 0.0080 - accuracy: 0.9981 - val_loss: 0.1444 - val_accuracy: 0.9583\n",
            "Epoch 17/22\n",
            "29/29 [==============================] - 0s 5ms/step - loss: 0.0062 - accuracy: 0.9984 - val_loss: 0.1479 - val_accuracy: 0.9600\n",
            "Epoch 18/22\n",
            "29/29 [==============================] - 0s 5ms/step - loss: 0.0052 - accuracy: 0.9990 - val_loss: 0.1332 - val_accuracy: 0.9627\n",
            "Epoch 19/22\n",
            "29/29 [==============================] - 0s 5ms/step - loss: 0.0041 - accuracy: 0.9997 - val_loss: 0.1450 - val_accuracy: 0.9627\n",
            "Epoch 20/22\n",
            "29/29 [==============================] - 0s 5ms/step - loss: 0.0032 - accuracy: 0.9996 - val_loss: 0.1504 - val_accuracy: 0.9593\n",
            "Epoch 21/22\n",
            "29/29 [==============================] - 0s 5ms/step - loss: 0.0023 - accuracy: 1.0000 - val_loss: 0.1535 - val_accuracy: 0.9603\n",
            "Epoch 22/22\n",
            "29/29 [==============================] - 0s 5ms/step - loss: 0.0020 - accuracy: 1.0000 - val_loss: 0.1592 - val_accuracy: 0.9586\n"
          ],
          "name": "stdout"
        }
      ]
    },
    {
      "cell_type": "markdown",
      "metadata": {
        "id": "t_yIwgOAnbGl",
        "colab_type": "text"
      },
      "source": [
        "# Evaluate the Model"
      ]
    },
    {
      "cell_type": "code",
      "metadata": {
        "id": "q45vbPZWYrzF",
        "colab_type": "code",
        "colab": {}
      },
      "source": [
        "loss_df = pd.DataFrame(history.history)"
      ],
      "execution_count": 141,
      "outputs": []
    },
    {
      "cell_type": "code",
      "metadata": {
        "id": "aFDFkPUNnw8D",
        "colab_type": "code",
        "colab": {
          "base_uri": "https://localhost:8080/",
          "height": 195
        },
        "outputId": "505b6652-157a-4e63-dfa3-48f646d7fb31"
      },
      "source": [
        "loss_df.head()"
      ],
      "execution_count": 142,
      "outputs": [
        {
          "output_type": "execute_result",
          "data": {
            "text/html": [
              "<div>\n",
              "<style scoped>\n",
              "    .dataframe tbody tr th:only-of-type {\n",
              "        vertical-align: middle;\n",
              "    }\n",
              "\n",
              "    .dataframe tbody tr th {\n",
              "        vertical-align: top;\n",
              "    }\n",
              "\n",
              "    .dataframe thead th {\n",
              "        text-align: right;\n",
              "    }\n",
              "</style>\n",
              "<table border=\"1\" class=\"dataframe\">\n",
              "  <thead>\n",
              "    <tr style=\"text-align: right;\">\n",
              "      <th></th>\n",
              "      <th>loss</th>\n",
              "      <th>accuracy</th>\n",
              "      <th>val_loss</th>\n",
              "      <th>val_accuracy</th>\n",
              "    </tr>\n",
              "  </thead>\n",
              "  <tbody>\n",
              "    <tr>\n",
              "      <th>0</th>\n",
              "      <td>1.716964</td>\n",
              "      <td>0.352013</td>\n",
              "      <td>1.463322</td>\n",
              "      <td>0.350526</td>\n",
              "    </tr>\n",
              "    <tr>\n",
              "      <th>1</th>\n",
              "      <td>1.134542</td>\n",
              "      <td>0.391186</td>\n",
              "      <td>0.952877</td>\n",
              "      <td>0.536817</td>\n",
              "    </tr>\n",
              "    <tr>\n",
              "      <th>2</th>\n",
              "      <td>0.780596</td>\n",
              "      <td>0.559032</td>\n",
              "      <td>0.670621</td>\n",
              "      <td>0.706481</td>\n",
              "    </tr>\n",
              "    <tr>\n",
              "      <th>3</th>\n",
              "      <td>0.495899</td>\n",
              "      <td>0.790941</td>\n",
              "      <td>0.346510</td>\n",
              "      <td>0.816763</td>\n",
              "    </tr>\n",
              "    <tr>\n",
              "      <th>4</th>\n",
              "      <td>0.205867</td>\n",
              "      <td>0.931447</td>\n",
              "      <td>0.170209</td>\n",
              "      <td>0.946725</td>\n",
              "    </tr>\n",
              "  </tbody>\n",
              "</table>\n",
              "</div>"
            ],
            "text/plain": [
              "       loss  accuracy  val_loss  val_accuracy\n",
              "0  1.716964  0.352013  1.463322      0.350526\n",
              "1  1.134542  0.391186  0.952877      0.536817\n",
              "2  0.780596  0.559032  0.670621      0.706481\n",
              "3  0.495899  0.790941  0.346510      0.816763\n",
              "4  0.205867  0.931447  0.170209      0.946725"
            ]
          },
          "metadata": {
            "tags": []
          },
          "execution_count": 142
        }
      ]
    },
    {
      "cell_type": "code",
      "metadata": {
        "id": "ggBt_JTmaP5a",
        "colab_type": "code",
        "colab": {
          "base_uri": "https://localhost:8080/",
          "height": 282
        },
        "outputId": "91c19b22-c1fd-45ad-cdce-6159ae66acc0"
      },
      "source": [
        "loss_df[['accuracy','val_accuracy']].plot()"
      ],
      "execution_count": 144,
      "outputs": [
        {
          "output_type": "execute_result",
          "data": {
            "text/plain": [
              "<matplotlib.axes._subplots.AxesSubplot at 0x7f6290397f98>"
            ]
          },
          "metadata": {
            "tags": []
          },
          "execution_count": 144
        },
        {
          "output_type": "display_data",
          "data": {
            "image/png": "[encoded data removed]",
            "text/plain": [
              "<Figure size 432x288 with 1 Axes>"
            ]
          },
          "metadata": {
            "tags": [],
            "needs_background": "light"
          }
        }
      ]
    },
    {
      "cell_type": "code",
      "metadata": {
        "id": "cYqLdzqWn_gO",
        "colab_type": "code",
        "colab": {
          "base_uri": "https://localhost:8080/",
          "height": 282
        },
        "outputId": "0e83dada-2c0a-4590-cef9-686382c8a45b"
      },
      "source": [
        "loss_df[['loss','val_loss']].plot()"
      ],
      "execution_count": 147,
      "outputs": [
        {
          "output_type": "execute_result",
          "data": {
            "text/plain": [
              "<matplotlib.axes._subplots.AxesSubplot at 0x7f628e2cac88>"
            ]
          },
          "metadata": {
            "tags": []
          },
          "execution_count": 147
        },
        {
          "output_type": "display_data",
          "data": {
            "image/png": "[encoded data removed]",
            "text/plain": [
              "<Figure size 432x288 with 1 Axes>"
            ]
          },
          "metadata": {
            "tags": [],
            "needs_background": "light"
          }
        }
      ]
    },
    {
      "cell_type": "code",
      "metadata": {
        "id": "-7f8EN98aTqm",
        "colab_type": "code",
        "colab": {
          "base_uri": "https://localhost:8080/",
          "height": 34
        },
        "outputId": "7324e1cf-3ec3-4801-9a88-4afd1c8bcb59"
      },
      "source": [
        "model.evaluate(X_test,y_test,verbose=0)"
      ],
      "execution_count": 80,
      "outputs": [
        {
          "output_type": "execute_result",
          "data": {
            "text/plain": [
              "[0.17649410665035248, 0.9558873176574707]"
            ]
          },
          "metadata": {
            "tags": []
          },
          "execution_count": 80
        }
      ]
    },
    {
      "cell_type": "code",
      "metadata": {
        "id": "Tq_B5CdIaoEj",
        "colab_type": "code",
        "colab": {
          "base_uri": "https://localhost:8080/",
          "height": 34
        },
        "outputId": "64880d9b-33e6-4f30-91a8-1405d73b51f4"
      },
      "source": [
        "model.evaluate(X_train,y_train,verbose=0)"
      ],
      "execution_count": 81,
      "outputs": [
        {
          "output_type": "execute_result",
          "data": {
            "text/plain": [
              "[0.0015462104929611087, 1.0]"
            ]
          },
          "metadata": {
            "tags": []
          },
          "execution_count": 81
        }
      ]
    },
    {
      "cell_type": "code",
      "metadata": {
        "id": "0YKHghfFayjj",
        "colab_type": "code",
        "colab": {}
      },
      "source": [
        "pred = model.predict(X_test)"
      ],
      "execution_count": 148,
      "outputs": []
    },
    {
      "cell_type": "code",
      "metadata": {
        "id": "vvXIulM9a7Th",
        "colab_type": "code",
        "colab": {}
      },
      "source": [
        "y_test_class=np.argmax(y_test,axis=1)\n",
        "y_pred_class=np.argmax(pred,axis=1)"
      ],
      "execution_count": 149,
      "outputs": []
    },
    {
      "cell_type": "code",
      "metadata": {
        "id": "vsA15tK4bEcj",
        "colab_type": "code",
        "colab": {
          "base_uri": "https://localhost:8080/",
          "height": 34
        },
        "outputId": "64732aff-fc46-40fa-aa18-3da6bb07558e"
      },
      "source": [
        "y_test_class"
      ],
      "execution_count": 150,
      "outputs": [
        {
          "output_type": "execute_result",
          "data": {
            "text/plain": [
              "array([1, 1, 1, ..., 4, 4, 4])"
            ]
          },
          "metadata": {
            "tags": []
          },
          "execution_count": 150
        }
      ]
    },
    {
      "cell_type": "code",
      "metadata": {
        "id": "bpEHbS-bbhU3",
        "colab_type": "code",
        "colab": {
          "base_uri": "https://localhost:8080/",
          "height": 34
        },
        "outputId": "011993df-0695-4e81-b34b-141914793b8a"
      },
      "source": [
        "y_pred_class"
      ],
      "execution_count": 151,
      "outputs": [
        {
          "output_type": "execute_result",
          "data": {
            "text/plain": [
              "array([1, 1, 1, ..., 4, 4, 4])"
            ]
          },
          "metadata": {
            "tags": []
          },
          "execution_count": 151
        }
      ]
    },
    {
      "cell_type": "code",
      "metadata": {
        "id": "SgwawChxbjHY",
        "colab_type": "code",
        "colab": {}
      },
      "source": [
        "from sklearn.metrics import confusion_matrix,accuracy_score,classification_report\n",
        "cm=confusion_matrix(y_test_class,y_pred_class)\n",
        "accuracy=accuracy_score(y_test_class,y_pred_class)"
      ],
      "execution_count": 152,
      "outputs": []
    },
    {
      "cell_type": "code",
      "metadata": {
        "id": "EiTHEkFjbokW",
        "colab_type": "code",
        "colab": {
          "base_uri": "https://localhost:8080/",
          "height": 118
        },
        "outputId": "5436a6ee-23b4-4652-f4cb-bc18771e0d0e"
      },
      "source": [
        "cm"
      ],
      "execution_count": 153,
      "outputs": [
        {
          "output_type": "execute_result",
          "data": {
            "text/plain": [
              "array([[529,   0,   0,   8,   0,   0],\n",
              "       [  0, 521,   0,  10,   1,   0],\n",
              "       [  0,   0, 494,   0,   2,   0],\n",
              "       [  0,  58,   0, 433,   0,   0],\n",
              "       [  0,   0,  23,   0, 447,   1],\n",
              "       [  0,   0,   8,   0,  11, 401]])"
            ]
          },
          "metadata": {
            "tags": []
          },
          "execution_count": 153
        }
      ]
    },
    {
      "cell_type": "code",
      "metadata": {
        "id": "KkZaDYgZbqdl",
        "colab_type": "code",
        "colab": {
          "base_uri": "https://localhost:8080/",
          "height": 34
        },
        "outputId": "422b9518-5c2f-4c57-c37e-14b67a8140fc"
      },
      "source": [
        "accuracy"
      ],
      "execution_count": 161,
      "outputs": [
        {
          "output_type": "execute_result",
          "data": {
            "text/plain": [
              "0.9586019681031558"
            ]
          },
          "metadata": {
            "tags": []
          },
          "execution_count": 161
        }
      ]
    },
    {
      "cell_type": "code",
      "metadata": {
        "id": "T5Kb3fvoppSn",
        "colab_type": "code",
        "colab": {
          "base_uri": "https://localhost:8080/",
          "height": 235
        },
        "outputId": "2d4c542a-eeab-4cb9-f13f-9eb8ef97cc85"
      },
      "source": [
        "print(classification_report(y_test_class,y_pred_class))"
      ],
      "execution_count": 159,
      "outputs": [
        {
          "output_type": "stream",
          "text": [
            "              precision    recall  f1-score   support\n",
            "\n",
            "           0       1.00      0.99      0.99       537\n",
            "           1       0.90      0.98      0.94       532\n",
            "           2       0.94      1.00      0.97       496\n",
            "           3       0.96      0.88      0.92       491\n",
            "           4       0.97      0.95      0.96       471\n",
            "           5       1.00      0.95      0.98       420\n",
            "\n",
            "    accuracy                           0.96      2947\n",
            "   macro avg       0.96      0.96      0.96      2947\n",
            "weighted avg       0.96      0.96      0.96      2947\n",
            "\n"
          ],
          "name": "stdout"
        }
      ]
    },
    {
      "cell_type": "code",
      "metadata": {
        "id": "3munWAQnqGgo",
        "colab_type": "code",
        "colab": {
          "base_uri": "https://localhost:8080/",
          "height": 391
        },
        "outputId": "322f5a89-95d7-45e5-d236-0ad7ba7b26ac"
      },
      "source": [
        "plt.figure(figsize=(10,6))\n",
        "sns.heatmap(confusion_matrix(y_test_class,y_pred_class),annot=True)"
      ],
      "execution_count": 160,
      "outputs": [
        {
          "output_type": "execute_result",
          "data": {
            "text/plain": [
              "<matplotlib.axes._subplots.AxesSubplot at 0x7f629069b898>"
            ]
          },
          "metadata": {
            "tags": []
          },
          "execution_count": 160
        },
        {
          "output_type": "display_data",
          "data": {
            "image/png": "[encoded data removed]",
            "text/plain": [
              "<Figure size 720x432 with 2 Axes>"
            ]
          },
          "metadata": {
            "tags": [],
            "needs_background": "light"
          }
        }
      ]
    },
    {
      "cell_type": "markdown",
      "metadata": {
        "id": "4NxJhMbir7Fa",
        "colab_type": "text"
      },
      "source": [
        "# Training using the neural network gave us a test accuracy of about 95%. "
      ]
    }
  ]
}